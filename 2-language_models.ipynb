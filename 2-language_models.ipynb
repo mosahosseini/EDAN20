{
 "cells": [
  {
   "cell_type": "markdown",
   "metadata": {},
   "source": [
    "# Assignment #2: Language models\n",
    "Author: Pierre Nugues"
   ]
  },
  {
   "cell_type": "markdown",
   "metadata": {},
   "source": [
    "## Objectives"
   ]
  },
  {
   "cell_type": "markdown",
   "metadata": {},
   "source": [
    "The objectives of this assignment are to:\n",
    "* Write a program to find n-gram statistics\n",
    "* Compute the probability of a sentence\n",
    "* Know what a language model is\n",
    "* Write a short report of 1 to 2 pages on the assignment"
   ]
  },
  {
   "cell_type": "markdown",
   "metadata": {},
   "source": [
    "## Submission"
   ]
  },
  {
   "cell_type": "markdown",
   "metadata": {},
   "source": [
    "Once you have written all the missing code and run all the cells, you will submit your notebook to an automatic marking system. Do not erase the content of the cells as we will possibly check your programs manually.\n",
    "The submission instructions are at the bottom of the notebook."
   ]
  },
  {
   "cell_type": "markdown",
   "metadata": {},
   "source": [
    "## Organization"
   ]
  },
  {
   "cell_type": "markdown",
   "metadata": {},
   "source": [
    "* Each group will have to write Python programs to count unigrams, bigrams, and trigrams in a corpus of approximately one million words and to determine the probability of a sentence.\n",
    "* You can test you regular expression using the regex101.com site\n",
    "* Each student will have to write a short report of one to two pages and comment briefly the results. In your report, you must produce the tabulated results of your analysis as described below."
   ]
  },
  {
   "cell_type": "markdown",
   "metadata": {},
   "source": [
    "## Programming"
   ]
  },
  {
   "cell_type": "markdown",
   "metadata": {},
   "source": [
    "### Imports"
   ]
  },
  {
   "cell_type": "markdown",
   "metadata": {},
   "source": [
    "Some imports you may need. Add others as needed."
   ]
  },
  {
   "cell_type": "code",
   "execution_count": 1,
   "metadata": {},
   "outputs": [],
   "source": [
    "import bz2\n",
    "import math\n",
    "import os\n",
    "import regex as re\n",
    "import requests\n",
    "import sys\n",
    "from zipfile import ZipFile\n",
    "from collections import Counter"
   ]
  },
  {
   "cell_type": "markdown",
   "metadata": {},
   "source": [
    "### Collecting and analyzing a corpus"
   ]
  },
  {
   "cell_type": "markdown",
   "metadata": {},
   "source": [
    "Retrieve a corpus of novels by Selma Lagerl&ouml;f from this URL:\n",
    "<a href=\"https://github.com/pnugues/ilppp/blob/master/programs/corpus/Selma.txt\">\n",
    "    <tt>https://github.com/pnugues/ilppp/blob/master/programs/corpus/Selma.txt</tt>\n",
    "</a>. The text of these novels was extracted\n",
    "from <a href=\"https://litteraturbanken.se/forfattare/LagerlofS/titlar\">Lagerlöf arkivet</a> at\n",
    "<a href=\"https://litteraturbanken.se/\">Litteraturbanken</a>."
   ]
  },
  {
   "cell_type": "code",
   "execution_count": 2,
   "metadata": {},
   "outputs": [],
   "source": [
    "# You may have to adjust the path\n",
    "corpus = open('C:/Users/4stra/Documents/pyton/FDAN20/env/edan20/notebooks/Selma/Selma.txt', encoding='utf8').read()"
   ]
  },
  {
   "cell_type": "markdown",
   "metadata": {},
   "source": [
    "Run the <a href=\"https://github.com/pnugues/ilppp/tree/master/programs/ch02/python\">concordance\n",
    "program </a> to print the lines containing a specific word, for instance <i>Nils</i>."
   ]
  },
  {
   "cell_type": "code",
   "execution_count": 3,
   "metadata": {},
   "outputs": [],
   "source": [
    "pattern = 'Nils Holgersson'\n",
    "width = 25"
   ]
  },
  {
   "cell_type": "code",
   "execution_count": 4,
   "metadata": {},
   "outputs": [
    {
     "name": "stdout",
     "output_type": "stream",
     "text": [
      "Selma Lagerlöf Nils Holgerssons underbara resa genom Sv\n",
      "! Se på Tummetott! Se på Nils Holgersson Tummetott!» Genast vände\n",
      "r,» sade han. »Jag heter Nils Holgersson och är son till en husma\n",
      "lden. »Inte är det värt, Nils Holgersson, att du är ängslig eller\n",
      " i dem. På den tiden, då Nils Holgersson drog omkring med vildgäs\n",
      "ulle allt visa honom vad Nils Holgersson från Västra Vemmenhög va\n",
      "om ägde rum det året, då Nils Holgersson for omkring med vildgäss\n",
      "m vad det kan kosta dem. Nils Holgersson hade inte haft förstånd \n",
      "de det inte mer sägas om Nils Holgersson, att han inte tyckte om \n",
      " Rosenbom?» För där stod Nils Holgersson mitt uppe på Rosenboms n\n",
      " Med ens fingo de syn på Nils Holgersson, och då sköt den store v\n",
      "vila. När vildgässen och Nils Holgersson äntligen hade letat sig \n",
      " slags arbetare. Men vad Nils Holgersson inte såg, det var, att s\n",
      "nde han fråga, och om då Nils Holgersson sade nej, började han ge\n",
      "de lille Mats, och om nu Nils Holgersson också hade tegat, så had\n",
      "åg så försmädlig ut, att Nils Holgersson kastade sig över honom f\n",
      " brodern. Och inte ville Nils Holgersson slåss med en tös, utan h\n",
      "örkar. På den tiden, när Nils Holgersson for omkring med vildgäss\n",
      " ryckte omkull honom. Om Nils Holgersson genast hade ropat på hjä\n",
      "u reda dig på egen hand, Nils Holgersson,» sade han då till sig s\n",
      "r satte Fumle-Drumle ner Nils Holgersson på bottnen av en sandgro\n",
      "mlingarna. – »Jo, jag är Nils Holgersson från Västra Vemmenhög, s\n",
      "rakten. På den tiden, då Nils Holgersson for omkring med vildgäss\n",
      "Jo, det står – Det står: Nils Holgersson fr. V. Vemmenhög.» »Det \n",
      "visan 1 Sveriges karta 2 Nils Holgerssons underbara resa genom Sv\n",
      "admalsvåden 233 ________ Nils Holgerssons underbara resa genom Sv\n",
      "R. Tolv år ungefär innan Nils Holgersson hade börjat resa omkring\n",
      "och leta efter föda, men Nils Holgersson hade på morgonen tappat \n",
      "ill i Närke det året, då Nils Holgersson for fram över landskapet\n",
      "hade flyttat tassen över Nils Holgerssons ansikte, så att den sta\n",
      "29 april. Denna dag fick Nils Holgersson se södra Dalarna. Vildgä\n",
      "rliga sjön. Det året, då Nils Holgersson for med vildgässen genom\n",
      "t skänka upptäckten till Nils Holgersson. Det var ju både det tro\n",
      " som sången varade, stod Nils Holgersson och lyssnade till den, m\n",
      "ova på en vassrugge. Vad Nils Holgersson angår, så var han för hu\n",
      "e svårt för en sådan som Nils Holgersson att finna en farkost. Ha\n",
      "r de hade kommit mittför Nils Holgersson, slogo de sig ner på ett\n",
      " 5 maj. På den tiden, då Nils Holgersson drog genom landet med vi\n",
      "an vara bra lycklig. Att Nils Holgersson, som för ett par timmar \n",
      " afton. Och således hade Nils Holgersson fått se studenterna, när\n",
      "nger under marschen. Men Nils Holgersson hade tyckt, att det inte\n",
      "och glädja så som dessa. Nils Holgersson hade mest sett på studen\n",
      "m, stannade han. »Jag är Nils Holgersson från Västra Vemmenhög,» \n",
      " Ett par år före det, då Nils Holgersson drog omkring med vildgäs\n",
      " detsamma fattade han om Nils Holgersson med sin stora fot, höjde\n",
      "t ingen mer än den lilla Nils Holgersson, som följde henne. Solen\n",
      " voro klädda med is, och Nils Holgersson ville följa henne dit in\n",
      "t Lappland är mitt!» Men Nils Holgersson hade blivit så ängslig, \n",
      " över klippväggarna, och Nils Holgersson kunde förstå, att det va\n",
      " SJUKDOMEN. Det året, då Nils Holgersson for omkring med vildgäss\n",
      "jligt att undgå den. Vad Nils Holgersson beträffar, så hade han h\n",
      "hade hon slagit klorna i Nils Holgerssons skuldra och hackade eft\n",
      "g, att just det året, då Nils Holgersson for omkring med vildgäss\n",
      " lönt att vara bedrövad, Nils Holgersson,» sade solen. »Världen ä\n",
      "åga om han inte kunde ge Nils Holgersson bättre villkor. ’Det öns\n",
      "du vill,’ sade han. ’Med Nils Holgersson blir det ändå så, som ja\n",
      "a haft av honom. Ja, säg Nils Holgersson, att föräldrarna redan h\n",
      "Västergötland. Den lille Nils Holgersson hade krupit upp på en la\n",
      " honom sämre.» Den lille Nils Holgersson hade följt med barnen he\n",
      "e bara störa.» Då tyckte Nils Holgersson, att när ingen annan gjo\n",
      "n färdig att följa det.» Nils Holgersson sprang raskt neråt vägen\n",
      "rott mellan de unga. Vad Nils Holgersson beträffar, så hade han i\n",
      "on gav sig tid att se på Nils Holgersson, innan hon stötte till. \n",
      " ändå alldeles olik. Den Nils Holgersson, som hade farit bort i v\n",
      " tro det. Välkommen hem, Nils Holgersson, välkommen hem! Det här \n",
      "mig här på gården,» sade Nils Holgersson. »Min egen mor tror, att\n",
      "on riktig sjukdom,» sade Nils Holgersson. »Jag får försöka ställa\n",
      "in kniv här på din hov?» Nils Holgersson var nätt och jämnt färdi\n",
      "sslingen, som var så lik Nils Holgersson, att om det inte var han\n",
      "pojken fanns i närheten. Nils Holgersson hörde honom nog, men han\n",
      "ottrar ihop ett tack för Nils Holgersson? Vad skulle det ha blivi\n"
     ]
    }
   ],
   "source": [
    "# spaces match tabs and newlines\n",
    "pattern = re.sub(' ', '\\\\s+', pattern)\n",
    "# Replaces newlines with spaces in the text\n",
    "clean_corpus = re.sub('\\s+', ' ', corpus)\n",
    "concordance = ('(.{{0,{width}}}{pattern}.{{0,{width}}})'\n",
    "               .format(pattern=pattern, width=width))\n",
    "for match in re.finditer(concordance, clean_corpus):\n",
    "    print(match.group(1))\n",
    "# print the string with 0..width characters on either side"
   ]
  },
  {
   "cell_type": "markdown",
   "metadata": {},
   "source": [
    "Run a simple <a href=\"https://github.com/pnugues/ilppp/tree/master/programs/ch05/python\">tokenization\n",
    "program</a> on your corpus."
   ]
  },
  {
   "cell_type": "code",
   "execution_count": 5,
   "metadata": {},
   "outputs": [],
   "source": [
    "def tokenize(text):\n",
    "    words = re.findall('\\p{L}+', text)\n",
    "    return words"
   ]
  },
  {
   "cell_type": "code",
   "execution_count": 6,
   "metadata": {},
   "outputs": [
    {
     "data": {
      "text/plain": [
       "['Selma',\n",
       " 'Lagerlöf',\n",
       " 'Nils',\n",
       " 'Holgerssons',\n",
       " 'underbara',\n",
       " 'resa',\n",
       " 'genom',\n",
       " 'Sverige',\n",
       " 'Första',\n",
       " 'bandet']"
      ]
     },
     "execution_count": 6,
     "metadata": {},
     "output_type": "execute_result"
    }
   ],
   "source": [
    "words = tokenize(corpus)\n",
    "words[:10]\n"
   ]
  },
  {
   "cell_type": "markdown",
   "metadata": {},
   "source": [
    "Count the number of unique words in the original corpus and when setting all the words in lowercase"
   ]
  },
  {
   "cell_type": "markdown",
   "metadata": {},
   "source": [
    "Original text"
   ]
  },
  {
   "cell_type": "code",
   "execution_count": 7,
   "metadata": {},
   "outputs": [
    {
     "name": "stdout",
     "output_type": "stream",
     "text": [
      "44256\n"
     ]
    }
   ],
   "source": [
    "l=set(words)\n",
    "k=len(list(l))\n",
    "print(k)"
   ]
  },
  {
   "cell_type": "markdown",
   "metadata": {},
   "source": [
    "Lowercased text"
   ]
  },
  {
   "cell_type": "code",
   "execution_count": 8,
   "metadata": {},
   "outputs": [
    {
     "name": "stdout",
     "output_type": "stream",
     "text": [
      "41032\n"
     ]
    }
   ],
   "source": [
    "words=tokenize(corpus.lower())\n",
    "l=set(words)\n",
    "k=len(list(l))\n",
    "print(k)\n",
    "# Write your code here"
   ]
  },
  {
   "cell_type": "markdown",
   "metadata": {},
   "source": [
    "### Segmenting a corpus"
   ]
  },
  {
   "cell_type": "markdown",
   "metadata": {},
   "source": [
    "You will write a program to tokenize your text, insert `<s>` and `</s>` tags to delimit sentences, and set all the words in lowercase letters. In the end, you will only keep the words."
   ]
  },
  {
   "cell_type": "markdown",
   "metadata": {},
   "source": [
    "#### Normalizing "
   ]
  },
  {
   "cell_type": "markdown",
   "metadata": {},
   "source": [
    "Write a regular expression that matches all the characters that are neither a letter nor a punctuation sign. The punctuations signs will be the followings: `.;:?!`. In your regex, use the same order. For the definition of a letter, use a Unicode regex. You will call the regex string `nonletter`"
   ]
  },
  {
   "cell_type": "code",
   "execution_count": 9,
   "metadata": {},
   "outputs": [],
   "source": [
    "nonletter='[^\\p{L}.:;!?]+'"
   ]
  },
  {
   "cell_type": "markdown",
   "metadata": {},
   "source": [
    "Write a `clean()` function that replaces all the characters that are neither a letter nor a punctuation sign with a space. The punctuations signs will be the followings: `.;:?!`.   For the sentence:\n",
    "\n",
    "_En gång hade de på Mårbacka en barnpiga, som hette Back-Kajsa._\n",
    "\n",
    "the result will be:\n",
    "\n",
    "`En gång hade de på Mårbacka en barnpiga som hette Back Kajsa.`"
   ]
  },
  {
   "cell_type": "code",
   "execution_count": 10,
   "metadata": {},
   "outputs": [],
   "source": [
    "def clean (text):\n",
    "    return re.sub(nonletter,r' ',text)\n",
    "    "
   ]
  },
  {
   "cell_type": "code",
   "execution_count": 11,
   "metadata": {},
   "outputs": [],
   "source": [
    "test_para ='En gång hade de på Mårbacka en barnpiga, som hette Back-Kajsa. \\\n",
    "Hon var nog sina tre alnar lång, hon hade ett stort, grovt ansikte med stränga, mörka drag, \\\n",
    "hennes händer voro hårda och fulla av sprickor, som barnens hår fastnade i, \\\n",
    "när hon kammade dem, och till humöret var hon dyster och sorgbunden. Mosa underade wuuut!!! \\\n",
    "Sen frågade Fanny vad menar du ??? '\n",
    "\n",
    "\n",
    "\n"
   ]
  },
  {
   "cell_type": "code",
   "execution_count": 12,
   "metadata": {},
   "outputs": [
    {
     "data": {
      "text/plain": [
       "'En gång hade de på Mårbacka en barnpiga som hette Back Kajsa. Hon var nog sina tre alnar lång hon hade ett stort grovt ansikte med stränga mörka drag hennes händer voro hårda och fulla av sprickor som barnens hår fastnade i när hon kammade dem och till humöret var hon dyster och sorgbunden. Mosa underade wuuut!!! Sen frågade Fanny vad menar du ??? '"
      ]
     },
     "execution_count": 12,
     "metadata": {},
     "output_type": "execute_result"
    }
   ],
   "source": [
    "test_para = clean(test_para)\n",
    "test_para"
   ]
  },
  {
   "cell_type": "markdown",
   "metadata": {},
   "source": [
    "#### Segmenter"
   ]
  },
  {
   "cell_type": "markdown",
   "metadata": {},
   "source": [
    "In this section, you will write a sentence segmenter that will delimit each sentence with `</s>` and `<s>` symbols. For example the sentence:\n",
    "\n",
    "_En gång hade de på Mårbacka en barnpiga, som hette Back-Kajsa._\n",
    "\n",
    "will be bracketed as:\n",
    "\n",
    "`<s> En gång hade de på Mårbacka en barnpiga som hette Back-Kajsa </s>`\n",
    "\n",
    "As algorithm, you will use a simple heuristics to detect the sentence boundaries: A sentence starts with a capital letter and ends with a period-equivalent punctuation sign. You will write a regex to match these boundaries with a regular expression and you will insert `</s>\\n<s>` symbols with a substitution function."
   ]
  },
  {
   "cell_type": "markdown",
   "metadata": {},
   "source": [
    "##### Detecting sentence boundaries"
   ]
  },
  {
   "cell_type": "markdown",
   "metadata": {},
   "source": [
    "Write a regular expression that matches a punctuation, a sequence of spaces, and an uppercase letter. Call this regex string `sentence_boundaries`. In the regex, you will remember the value of the uppercase letter using a backreference. Use the Unicode regexes for the letters and the spaces."
   ]
  },
  {
   "cell_type": "code",
   "execution_count": 13,
   "metadata": {},
   "outputs": [],
   "source": [
    "sentence_boundaries='[.!?:;]+\\s+(\\p{Lu})'"
   ]
  },
  {
   "cell_type": "markdown",
   "metadata": {},
   "source": [
    "##### Replacement markup"
   ]
  },
  {
   "cell_type": "markdown",
   "metadata": {},
   "source": [
    "Write a string to replace the matched boundaries with the sentence boundary markup. Remember that a sentence ends with `</s>` and starts with `<s>` and that there is one sentence per line. Hint: The markup is `</s>\\n<s>`. Remember also that the first letter of your sentence is in a regex backreference. Call the regex string `sentence_markup`."
   ]
  },
  {
   "cell_type": "code",
   "execution_count": 14,
   "metadata": {},
   "outputs": [],
   "source": [
    "sentence_markup=r' </s>\\n<s> \\1'"
   ]
  },
  {
   "cell_type": "markdown",
   "metadata": {},
   "source": [
    "##### Applying the substitution"
   ]
  },
  {
   "cell_type": "markdown",
   "metadata": {},
   "source": [
    "Use your regexes to segment your text. Use the string `sentence_boundaries`, `sentence_markup`, and `test_para` as input and `text` as output."
   ]
  },
  {
   "cell_type": "code",
   "execution_count": 15,
   "metadata": {},
   "outputs": [],
   "source": [
    "text= re.sub(sentence_boundaries,sentence_markup,test_para)"
   ]
  },
  {
   "cell_type": "code",
   "execution_count": 16,
   "metadata": {},
   "outputs": [
    {
     "name": "stdout",
     "output_type": "stream",
     "text": [
      "En gång hade de på Mårbacka en barnpiga som hette Back Kajsa </s>\n",
      "<s> Hon var nog sina tre alnar lång hon hade ett stort grovt ansikte med stränga mörka drag hennes händer voro hårda och fulla av sprickor som barnens hår fastnade i när hon kammade dem och till humöret var hon dyster och sorgbunden </s>\n",
      "<s> Mosa underade wuuut </s>\n",
      "<s> Sen frågade Fanny vad menar du ??? \n"
     ]
    }
   ],
   "source": [
    "print(text)"
   ]
  },
  {
   "cell_type": "markdown",
   "metadata": {},
   "source": [
    "Insert markup codes in the beginning and end of the text"
   ]
  },
  {
   "cell_type": "code",
   "execution_count": 17,
   "metadata": {},
   "outputs": [],
   "source": [
    "text= \"<s> \"+text+\" </s>\" "
   ]
  },
  {
   "cell_type": "code",
   "execution_count": 18,
   "metadata": {},
   "outputs": [
    {
     "name": "stdout",
     "output_type": "stream",
     "text": [
      "<s> En gång hade de på Mårbacka en barnpiga som hette Back Kajsa </s>\n",
      "<s> Hon var nog sina tre alnar lång hon hade ett stort grovt ansikte med stränga mörka drag hennes händer voro hårda och fulla av sprickor som barnens hår fastnade i när hon kammade dem och till humöret var hon dyster och sorgbunden </s>\n",
      "<s> Mosa underade wuuut </s>\n",
      "<s> Sen frågade Fanny vad menar du ???  </s>\n"
     ]
    }
   ],
   "source": [
    "print(text)"
   ]
  },
  {
   "cell_type": "markdown",
   "metadata": {},
   "source": [
    "Replace the space duplicates with one space and remove the punctuation signs. For the spaces, use the Unicode regex."
   ]
  },
  {
   "cell_type": "code",
   "execution_count": 19,
   "metadata": {},
   "outputs": [],
   "source": [
    "text=re.sub(r'[.!?:;]','',text)\n",
    "\n",
    "text=re.sub(r'\\s{2,}',' ',text)"
   ]
  },
  {
   "cell_type": "code",
   "execution_count": 20,
   "metadata": {},
   "outputs": [
    {
     "name": "stdout",
     "output_type": "stream",
     "text": [
      "<s> En gång hade de på Mårbacka en barnpiga som hette Back Kajsa </s>\n",
      "<s> Hon var nog sina tre alnar lång hon hade ett stort grovt ansikte med stränga mörka drag hennes händer voro hårda och fulla av sprickor som barnens hår fastnade i när hon kammade dem och till humöret var hon dyster och sorgbunden </s>\n",
      "<s> Mosa underade wuuut </s>\n",
      "<s> Sen frågade Fanny vad menar du </s>\n"
     ]
    }
   ],
   "source": [
    "print(text)"
   ]
  },
  {
   "cell_type": "markdown",
   "metadata": {},
   "source": [
    "Write a `segment_sentences(text)` function to gather the code in the Segmenter section and set the text in lowercase"
   ]
  },
  {
   "cell_type": "code",
   "execution_count": 21,
   "metadata": {},
   "outputs": [],
   "source": [
    "def segment_sentences(text):\n",
    " \n",
    "    text= re.sub(sentence_boundaries,sentence_markup,text)\n",
    "    text=text.lower()\n",
    "    text= \"<s> \"+text+\" </s>\"\n",
    "    text=re.sub(r'[.?!:;]','',text)\n",
    "    text=re.sub(r'\\s{2,}',' ',text)\n",
    "    return text "
   ]
  },
  {
   "cell_type": "code",
   "execution_count": 22,
   "metadata": {},
   "outputs": [
    {
     "name": "stdout",
     "output_type": "stream",
     "text": [
      "<s> en gång hade de på mårbacka en barnpiga som hette back kajsa </s>\n",
      "<s> hon var nog sina tre alnar lång hon hade ett stort grovt ansikte med stränga mörka drag hennes händer voro hårda och fulla av sprickor som barnens hår fastnade i när hon kammade dem och till humöret var hon dyster och sorgbunden </s>\n",
      "<s> mosa underade wuuut </s>\n",
      "<s> sen frågade fanny vad menar du </s>\n"
     ]
    }
   ],
   "source": [
    "print(segment_sentences(test_para))"
   ]
  },
  {
   "cell_type": "markdown",
   "metadata": {},
   "source": [
    "Estimate roughly the accuracy of your program."
   ]
  },
  {
   "cell_type": "markdown",
   "metadata": {},
   "source": [
    "#### Tokenizing the corpus"
   ]
  },
  {
   "cell_type": "markdown",
   "metadata": {},
   "source": [
    "Clean and segment the corpus"
   ]
  },
  {
   "cell_type": "code",
   "execution_count": 23,
   "metadata": {},
   "outputs": [],
   "source": [
    "corpus=segment_sentences(clean(corpus))"
   ]
  },
  {
   "cell_type": "markdown",
   "metadata": {},
   "source": [
    "The result should be a normalized text without punctuation signs where all the sentences are delimited with `<s>` and `</s>` tags. The five last lines of the text should look like this."
   ]
  },
  {
   "cell_type": "code",
   "execution_count": 24,
   "metadata": {},
   "outputs": [
    {
     "name": "stdout",
     "output_type": "stream",
     "text": [
      "<s> hon hade fått större kärlek av sina föräldrar än någon annan han visste och sådan kärlek måste vändas i välsignelse </s>\n",
      "<s> då prästen sade detta kom alla människor att se bort mot klara gulla och de förundrade sig över vad de såg </s>\n",
      "<s> prästens ord tycktes redan ha gått i uppfyllelse </s>\n",
      "<s> där stod klara fina gulleborg ifrån skrolycka hon som var uppkallad efter själva solen vid sina föräldrars grav och lyste som en förklarad </s>\n",
      "<s> hon var likaså vacker som den söndagen då hon gick till kyrkan i den röda klänningen om inte vackrare </s>\n"
     ]
    }
   ],
   "source": [
    "print(corpus[-557:])"
   ]
  },
  {
   "cell_type": "markdown",
   "metadata": {},
   "source": [
    "You will now create a list of words from your string. You will consider that a space or a carriage return is an item separator"
   ]
  },
  {
   "cell_type": "code",
   "execution_count": 25,
   "metadata": {},
   "outputs": [
    {
     "name": "stdout",
     "output_type": "stream",
     "text": [
      "923485\n",
      "1041560\n"
     ]
    }
   ],
   "source": [
    "print(len(words))\n",
    "\n",
    "words=re.findall(r'(\\p{L}+|<s>|</s>)',corpus)\n",
    "print(len(words))"
   ]
  },
  {
   "cell_type": "markdown",
   "metadata": {},
   "source": [
    "The five last lines of the corpus should like this:"
   ]
  },
  {
   "cell_type": "code",
   "execution_count": 26,
   "metadata": {},
   "outputs": [
    {
     "name": "stdout",
     "output_type": "stream",
     "text": [
      "['<s>', 'hon', 'hade', 'fått', 'större', 'kärlek', 'av', 'sina', 'föräldrar', 'än', 'någon', 'annan', 'han', 'visste', 'och', 'sådan', 'kärlek', 'måste', 'vändas', 'i', 'välsignelse', '</s>', '<s>', 'då', 'prästen', 'sade', 'detta', 'kom', 'alla', 'människor', 'att', 'se', 'bort', 'mot', 'klara', 'gulla', 'och', 'de', 'förundrade', 'sig', 'över', 'vad', 'de', 'såg', '</s>', '<s>', 'prästens', 'ord', 'tycktes', 'redan', 'ha', 'gått', 'i', 'uppfyllelse', '</s>', '<s>', 'där', 'stod', 'klara', 'fina', 'gulleborg', 'ifrån', 'skrolycka', 'hon', 'som', 'var', 'uppkallad', 'efter', 'själva', 'solen', 'vid', 'sina', 'föräldrars', 'grav', 'och', 'lyste', 'som', 'en', 'förklarad', '</s>', '<s>', 'hon', 'var', 'likaså', 'vacker', 'som', 'den', 'söndagen', 'då', 'hon', 'gick', 'till', 'kyrkan', 'i', 'den', 'röda', 'klänningen', 'om', 'inte', 'vackrare', '</s>']\n"
     ]
    }
   ],
   "source": [
    "print(words[-101:])\n"
   ]
  },
  {
   "cell_type": "markdown",
   "metadata": {},
   "source": [
    "### Counting unigrams and bigrams"
   ]
  },
  {
   "cell_type": "markdown",
   "metadata": {},
   "source": [
    "Read and try programs to compute the frequency of unigrams and bigrams of the training set: [<a\n",
    "            href=\"https://github.com/pnugues/ilppp/tree/master/programs/ch05/python\">Program folder</a>]."
   ]
  },
  {
   "cell_type": "markdown",
   "metadata": {},
   "source": [
    "#### Unigrams"
   ]
  },
  {
   "cell_type": "code",
   "execution_count": 27,
   "metadata": {},
   "outputs": [],
   "source": [
    "def unigrams(words):\n",
    "    frequency = {}\n",
    "    for i in range(len(words)):\n",
    "        if words[i] in frequency:\n",
    "            frequency[words[i]] += 1\n",
    "        else:\n",
    "            frequency[words[i]] = 1\n",
    "    return frequency"
   ]
  },
  {
   "cell_type": "markdown",
   "metadata": {},
   "source": [
    "We compute the frequencies."
   ]
  },
  {
   "cell_type": "code",
   "execution_count": 28,
   "metadata": {},
   "outputs": [
    {
     "data": {
      "text/plain": [
       "[('<s>', 59047),\n",
       " ('selma', 52),\n",
       " ('lagerlöf', 270),\n",
       " ('nils', 87),\n",
       " ('holgerssons', 6),\n",
       " ('underbara', 23),\n",
       " ('resa', 317),\n",
       " ('genom', 688),\n",
       " ('sverige', 56),\n",
       " ('</s>', 59047),\n",
       " ('första', 525),\n",
       " ('bandet', 6),\n",
       " ('bokutgåva', 11),\n",
       " ('albert', 15),\n",
       " ('bonniers', 11),\n",
       " ('förlag', 11),\n",
       " ('stockholm', 77),\n",
       " ('den', 11624),\n",
       " ('kristliga', 2),\n",
       " ('dagvisan', 2),\n",
       " ('signade', 3),\n",
       " ('dag', 942),\n",
       " ('som', 16288),\n",
       " ('vi', 2105),\n",
       " ('nu', 4084),\n",
       " ('här', 2107),\n",
       " ('se', 1989),\n",
       " ('av', 5435),\n",
       " ('himmelen', 80),\n",
       " ('till', 9139),\n",
       " ('oss', 974),\n",
       " ('nedkomma', 2),\n",
       " ('han', 21589),\n",
       " ('blive', 1),\n",
       " ('säll', 7),\n",
       " ('låte', 2),\n",
       " ('sig', 9250),\n",
       " ('te', 220),\n",
       " ('alla', 2355),\n",
       " ('glädje', 294),\n",
       " ('och', 36356),\n",
       " ('fromma', 29),\n",
       " ('ja', 938),\n",
       " ('herren', 23),\n",
       " ('högste', 7),\n",
       " ('i', 16508),\n",
       " ('för', 9443),\n",
       " ('synder', 6),\n",
       " ('sorger', 15),\n",
       " ('bevare', 18),\n",
       " ('men', 8144),\n",
       " ('såsom', 271),\n",
       " ('en', 13514),\n",
       " ('fågel', 49),\n",
       " ('mot', 1526),\n",
       " ('himmelens', 28),\n",
       " ('höjd', 23),\n",
       " ('lyfter', 29),\n",
       " ('på', 14250),\n",
       " ('lediga', 10),\n",
       " ('vingar', 70),\n",
       " ('lovar', 17),\n",
       " ('sin', 2513),\n",
       " ('gud', 532),\n",
       " ('är', 6290),\n",
       " ('glad', 436),\n",
       " ('förnöjd', 8),\n",
       " ('när', 2772),\n",
       " ('över', 2454),\n",
       " ('jorden', 277),\n",
       " ('svingar', 6),\n",
       " ('så', 9149),\n",
       " ('själen', 31),\n",
       " ('hjärtelig', 1),\n",
       " ('fröjd', 30),\n",
       " ('himlen', 99),\n",
       " ('med', 9140),\n",
       " ('lovsång', 1),\n",
       " ('böner', 42),\n",
       " ('ack', 142),\n",
       " ('låtom', 3),\n",
       " ('lova', 11),\n",
       " ('bedja', 64),\n",
       " ('vår', 317),\n",
       " ('stunderna', 1),\n",
       " ('växla', 1),\n",
       " ('skrida', 3),\n",
       " ('skola', 158),\n",
       " ('stärkas', 1),\n",
       " ('att', 28020),\n",
       " ('hålla', 424),\n",
       " ('hans', 2219),\n",
       " ('bud', 102),\n",
       " ('vaka', 26),\n",
       " ('tåligen', 1),\n",
       " ('lida', 43),\n",
       " ('verka', 15),\n",
       " ('allvar', 83),\n",
       " ('flit', 14),\n",
       " ('länge', 555),\n",
       " ('dagen', 431),\n",
       " ('förunnas', 2),\n",
       " ('sv', 1),\n",
       " ('ps', 1),\n",
       " ('sveriges', 14),\n",
       " ('karta', 10),\n",
       " ('jag', 9511),\n",
       " ('ser', 638),\n",
       " ('från', 2347),\n",
       " ('skolans', 4),\n",
       " ('dar', 87),\n",
       " ('bild', 18),\n",
       " ('fingrar', 22),\n",
       " ('märkt', 70),\n",
       " ('plumpar', 1),\n",
       " ('spilld', 1),\n",
       " ('kalkad', 1),\n",
       " ('vägg', 20),\n",
       " ('prima', 1),\n",
       " ('klistrad', 1),\n",
       " ('upp', 2450),\n",
       " ('lärft', 2),\n",
       " ('utav', 3),\n",
       " ('svenska', 49),\n",
       " ('jord', 95),\n",
       " ('ärvt', 12),\n",
       " ('vårt', 69),\n",
       " ('land', 322),\n",
       " ('fordomtima', 1),\n",
       " ('där', 4238),\n",
       " ('låg', 1017),\n",
       " ('det', 21108),\n",
       " ('mellan', 441),\n",
       " ('fjäll', 30),\n",
       " ('sjö', 76),\n",
       " ('skandinaviens', 1),\n",
       " ('halva', 12),\n",
       " ('ö', 11),\n",
       " ('sågs', 7),\n",
       " ('sidan', 197),\n",
       " ('primanska', 1),\n",
       " ('fantasi', 3),\n",
       " ('ett', 5060),\n",
       " ('utsträckt', 19),\n",
       " ('lejon', 6),\n",
       " ('kunde', 3251),\n",
       " ('bli', 1407),\n",
       " ('vila', 108),\n",
       " ('förbidan', 5),\n",
       " ('kartan', 5),\n",
       " ('stirrade', 104),\n",
       " ('små', 648),\n",
       " ('tanken', 115),\n",
       " ('hisnade', 2),\n",
       " ('gå', 1590),\n",
       " ('ändlöst', 3),\n",
       " ('långa', 406),\n",
       " ('vägen', 493),\n",
       " ('ystad', 1),\n",
       " ('uppåt', 131),\n",
       " ('torneå', 1),\n",
       " ('nötte', 2),\n",
       " ('man', 2322),\n",
       " ('ut', 2835),\n",
       " ('järnskor', 1),\n",
       " ('gamla', 1298),\n",
       " ('sägen', 8),\n",
       " ('än', 2558),\n",
       " ('tänker', 301),\n",
       " ('mig', 2689),\n",
       " ('var', 12090),\n",
       " ('provins', 1),\n",
       " ('samma', 693),\n",
       " ('färger', 13),\n",
       " ('minns', 80),\n",
       " ('kartans', 2),\n",
       " ('bjärta', 2),\n",
       " ('gränser', 4),\n",
       " ('skåne', 58),\n",
       " ('gult', 19),\n",
       " ('skördefält', 1),\n",
       " ('sörmland', 20),\n",
       " ('grönt', 48),\n",
       " ('björkens', 1),\n",
       " ('tält', 16),\n",
       " ('då', 4919),\n",
       " ('värmland', 84),\n",
       " ('stålblått', 2),\n",
       " ('glänser', 3),\n",
       " ('längst', 23),\n",
       " ('norr', 97),\n",
       " ('blodrött', 1),\n",
       " ('snitt', 4),\n",
       " ('vidtog', 6),\n",
       " ('ryssland', 7),\n",
       " ('tomt', 32),\n",
       " ('vitt', 79),\n",
       " ('blicken', 45),\n",
       " ('återvände', 6),\n",
       " ('sveas', 1),\n",
       " ('bygd', 16),\n",
       " ('berg', 151),\n",
       " ('slätt', 28),\n",
       " ('städer', 25),\n",
       " ('liksom', 318),\n",
       " ('smultron', 5),\n",
       " ('tätt', 145),\n",
       " ('strömmar', 24),\n",
       " ('utan', 1921),\n",
       " ('ände', 6),\n",
       " ('de', 11942),\n",
       " ('runno', 2),\n",
       " ('flöto', 11),\n",
       " ('vånda', 3),\n",
       " ('besvär', 53),\n",
       " ('hop', 27),\n",
       " ('dem', 3196),\n",
       " ('klassens', 3),\n",
       " ('mummel', 4),\n",
       " ('läxors', 1),\n",
       " ('sus', 11),\n",
       " ('hörde', 699),\n",
       " ('deras', 716),\n",
       " ('fjärran', 32),\n",
       " ('brus', 8),\n",
       " ('mina', 263),\n",
       " ('öron', 44),\n",
       " ('svalla', 1),\n",
       " ('ur', 1125),\n",
       " ('minnet', 40),\n",
       " ('gledo', 19),\n",
       " ('namnen', 5),\n",
       " ('hän', 12),\n",
       " ('snabbt', 14),\n",
       " ('några', 612),\n",
       " ('timmerträn', 1),\n",
       " ('västerbottens', 1),\n",
       " ('älver', 1),\n",
       " ('barnatårars', 1),\n",
       " ('salta', 5),\n",
       " ('tåg', 27),\n",
       " ('förente', 1),\n",
       " ('varje', 269),\n",
       " ('våg', 13),\n",
       " ('norrland', 9),\n",
       " ('välver', 5),\n",
       " ('engelbrekt', 1),\n",
       " ('mod', 108),\n",
       " ('stad', 111),\n",
       " ('flod', 9),\n",
       " ('fram', 2019),\n",
       " ('målet', 13),\n",
       " ('lände', 2),\n",
       " ('erövringen', 1),\n",
       " ('lång', 340),\n",
       " ('svår', 55),\n",
       " ('fosterjorden', 2),\n",
       " ('dess', 342),\n",
       " ('drag', 48),\n",
       " ('kände', 753),\n",
       " ('förr', 376),\n",
       " ('sutto', 191),\n",
       " ('du', 4359),\n",
       " ('släkte', 10),\n",
       " ('sitter', 242),\n",
       " ('kan', 2078),\n",
       " ('vad', 1961),\n",
       " ('ej', 1806),\n",
       " ('visste', 874),\n",
       " ('hos', 546),\n",
       " ('främst', 34),\n",
       " ('led', 86),\n",
       " ('bland', 352),\n",
       " ('denna', 886),\n",
       " ('ungdom', 48),\n",
       " ('sjönke', 2),\n",
       " ('ned', 369),\n",
       " ('kanhända', 4),\n",
       " ('siste', 6),\n",
       " ('böjas', 2),\n",
       " ('blad', 58),\n",
       " ('huvun', 1),\n",
       " ('lockig', 1),\n",
       " ('rad', 75),\n",
       " ('efter', 1831),\n",
       " ('ta', 644),\n",
       " ('arvet', 10),\n",
       " ('synts', 9),\n",
       " ('långt', 567),\n",
       " ('syns', 29),\n",
       " ('kort', 113),\n",
       " ('avstånd', 32),\n",
       " ('svinna', 2),\n",
       " ('bort', 1058),\n",
       " ('järnvägstidevarvet', 1),\n",
       " ('läsa', 168),\n",
       " ('svarta', 199),\n",
       " ('nät', 16),\n",
       " ('korsar', 1),\n",
       " ('älvens', 1),\n",
       " ('blåa', 42),\n",
       " ('fjät', 1),\n",
       " ('fjället', 8),\n",
       " ('spränger', 4),\n",
       " ('lokomotivets', 1),\n",
       " ('gälla', 12),\n",
       " ('flodsystemets', 1),\n",
       " ('dova', 5),\n",
       " ('in', 2009),\n",
       " ('mänger', 1),\n",
       " ('säg', 96),\n",
       " ('därvid', 28),\n",
       " ('unga', 441),\n",
       " ('ätt', 19),\n",
       " ('ångans', 1),\n",
       " ('tid', 577),\n",
       " ('vars', 79),\n",
       " ('kinder', 34),\n",
       " ('kunskap', 14),\n",
       " ('bleker', 1),\n",
       " ('har', 4666),\n",
       " ('väl', 1800),\n",
       " ('brinnande', 42),\n",
       " ('termin', 1),\n",
       " ('dörren', 300),\n",
       " ('stängt', 30),\n",
       " ('fantasin', 1),\n",
       " ('skimrar', 2),\n",
       " ('leker', 6),\n",
       " ('nej', 539),\n",
       " ('gossens', 5),\n",
       " ('skolpulpet', 1),\n",
       " ('hon', 13313),\n",
       " ('lutar', 15),\n",
       " ('hemlighet', 21),\n",
       " ('barndoms', 6),\n",
       " ('tröstarinna', 1),\n",
       " ('hennes', 1629),\n",
       " ('trollglas', 1),\n",
       " ('hand', 405),\n",
       " ('läxans', 1),\n",
       " ('torra', 58),\n",
       " ('ökensand', 2),\n",
       " ('skall', 729),\n",
       " ('liv', 362),\n",
       " ('färg', 33),\n",
       " ('finna', 233),\n",
       " ('hulda', 5),\n",
       " ('fe', 2),\n",
       " ('barnens', 15),\n",
       " ('vän', 155),\n",
       " ('bokens', 2),\n",
       " ('bräddar', 11),\n",
       " ('måla', 9),\n",
       " ('din', 356),\n",
       " ('bildvärld', 1),\n",
       " ('åt', 1413),\n",
       " ('hemmets', 9),\n",
       " ('skog', 90),\n",
       " ('älv', 17),\n",
       " ('järnets', 5),\n",
       " ('döda', 209),\n",
       " ('massa', 34),\n",
       " ('själv', 834),\n",
       " ('giv', 9),\n",
       " ('själ', 146),\n",
       " ('tunga', 175),\n",
       " ('prägla', 1),\n",
       " ('levande', 73),\n",
       " ('varm', 24),\n",
       " ('barnets', 40),\n",
       " ('barm', 3),\n",
       " ('mannen', 511),\n",
       " ('bevara', 18),\n",
       " ('ägna', 10),\n",
       " ('gång', 1332),\n",
       " ('levnads', 5),\n",
       " ('gärning', 23),\n",
       " ('eller', 1332),\n",
       " ('sång', 51),\n",
       " ('dö', 214),\n",
       " ('försvara', 43),\n",
       " ('carl', 1),\n",
       " ('snoilsky', 5),\n",
       " ('pojken', 1028),\n",
       " ('tomten', 67),\n",
       " ('söndag', 46),\n",
       " ('mars', 21),\n",
       " ('pojke', 52),\n",
       " ('fjorton', 21),\n",
       " ('år', 706),\n",
       " ('gammal', 491),\n",
       " ('ranglig', 2),\n",
       " ('linhårig', 1),\n",
       " ('inte', 11355),\n",
       " ('stort', 370),\n",
       " ('dugde', 18),\n",
       " ('hade', 13198),\n",
       " ('mest', 174),\n",
       " ('allt', 2036),\n",
       " ('lust', 193),\n",
       " ('sova', 128),\n",
       " ('äta', 152),\n",
       " ('därnäst', 5),\n",
       " ('tyckte', 865),\n",
       " ('om', 8075),\n",
       " ('ställa', 159),\n",
       " ('odygd', 2),\n",
       " ('söndagsmorgon', 1),\n",
       " ('pojkens', 10),\n",
       " ('föräldrar', 84),\n",
       " ('höllo', 118),\n",
       " ('göra', 1158),\n",
       " ('ordning', 120),\n",
       " ('kyrkan', 318),\n",
       " ('satt', 1126),\n",
       " ('skjortärmarna', 2),\n",
       " ('bordskanten', 1),\n",
       " ('tänkte', 1224),\n",
       " ('hur', 1996),\n",
       " ('lyckligt', 23),\n",
       " ('både', 502),\n",
       " ('far', 723),\n",
       " ('mor', 775),\n",
       " ('gingo', 228),\n",
       " ('väg', 469),\n",
       " ('skulle', 5433),\n",
       " ('få', 1830),\n",
       " ('rå', 25),\n",
       " ('under', 1479),\n",
       " ('par', 794),\n",
       " ('timmar', 85),\n",
       " ('ner', 1420),\n",
       " ('fars', 43),\n",
       " ('bössa', 15),\n",
       " ('skjuta', 57),\n",
       " ('skott', 40),\n",
       " ('någon', 1379),\n",
       " ('behöver', 125),\n",
       " ('lägga', 220),\n",
       " ('sade', 4138),\n",
       " ('nästan', 433),\n",
       " ('ha', 2131),\n",
       " ('gissat', 12),\n",
       " ('tankar', 239),\n",
       " ('just', 758),\n",
       " ('stod', 1192),\n",
       " ('tröskeln', 40),\n",
       " ('färdig', 145),\n",
       " ('stannade', 270),\n",
       " ('vände', 406),\n",
       " ('honom', 5809),\n",
       " ('eftersom', 152),\n",
       " ('vill', 1127),\n",
       " ('tycker', 277),\n",
       " ('åtminstone', 100),\n",
       " ('predikan', 30),\n",
       " ('hemma', 291),\n",
       " ('gör', 355),\n",
       " ('förstås', 107),\n",
       " ('mer', 1217),\n",
       " ('aldrig', 1420),\n",
       " ('sett', 657),\n",
       " ('fortfärdig', 2),\n",
       " ('borta', 464),\n",
       " ('vid', 1952),\n",
       " ('vägghyllan', 1),\n",
       " ('tog', 638),\n",
       " ('luthers', 1),\n",
       " ('postilla', 1),\n",
       " ('lade', 409),\n",
       " ('bordet', 172),\n",
       " ('framme', 88),\n",
       " ('fönstret', 122),\n",
       " ('dagens', 17),\n",
       " ('uppslagen', 3),\n",
       " ('slog', 284),\n",
       " ('också', 1265),\n",
       " ('evangelieboken', 1),\n",
       " ('bredvid', 317),\n",
       " ('postillan', 2),\n",
       " ('sist', 323),\n",
       " ('drog', 289),\n",
       " ('stora', 1324),\n",
       " ('länstolen', 7),\n",
       " ('blev', 1488),\n",
       " ('köpt', 22),\n",
       " ('auktionen', 24),\n",
       " ('vemmenhögs', 5),\n",
       " ('prästgård', 16),\n",
       " ('förra', 119),\n",
       " ('året', 143),\n",
       " ('eljest', 71),\n",
       " ('ingen', 1593),\n",
       " ('annan', 582),\n",
       " ('fick', 1112),\n",
       " ('sitta', 319),\n",
       " ('gjorde', 796),\n",
       " ('alltför', 52),\n",
       " ('mycket', 1340),\n",
       " ('uppdukningen', 1),\n",
       " ('ämnade', 114),\n",
       " ('sida', 96),\n",
       " ('andra', 1270),\n",
       " ('gången', 238),\n",
       " ('alldeles', 821),\n",
       " ('kunnat', 405),\n",
       " ('tvärsigenom', 5),\n",
       " ('gick', 1797),\n",
       " ('sträng', 41),\n",
       " ('röst', 325),\n",
       " ('kom', 2639),\n",
       " ('ihåg', 206),\n",
       " ('läser', 35),\n",
       " ('ordentligt', 37),\n",
       " ('kommer', 824),\n",
       " ('tillbaka', 726),\n",
       " ('ska', 1886),\n",
       " ('förhöra', 9),\n",
       " ('dig', 1519),\n",
       " ('varenda', 44),\n",
       " ('hoppat', 6),\n",
       " ('går', 633),\n",
       " ('halv', 14),\n",
       " ('råga', 2),\n",
       " ('måttet', 5),\n",
       " ('får', 906),\n",
       " ('nog', 1468),\n",
       " ('sätta', 254),\n",
       " ('genast', 508),\n",
       " ('hinna', 50),\n",
       " ('igenom', 175),\n",
       " ('därmed', 116),\n",
       " ('äntligen', 179),\n",
       " ('såg', 2284),\n",
       " ('blivit', 747),\n",
       " ('fångad', 9),\n",
       " ('fälla', 26),\n",
       " ('lyckönskar', 2),\n",
       " ('hittat', 23),\n",
       " ('bra', 466),\n",
       " ('måste', 1094),\n",
       " ('hänga', 30),\n",
       " ('hela', 1463),\n",
       " ('tiden', 444),\n",
       " ('visst', 403),\n",
       " ('lyckönskade', 7),\n",
       " ('något', 1996),\n",
       " ('stället', 187),\n",
       " ('voro', 1362),\n",
       " ('ganska', 74),\n",
       " ('bedrövade', 11),\n",
       " ('fattigt', 30),\n",
       " ('husmansfolk', 1),\n",
       " ('ställe', 181),\n",
       " ('större', 150),\n",
       " ('trädgårdstäppa', 4),\n",
       " ('först', 347),\n",
       " ('flyttade', 82),\n",
       " ('dit', 316),\n",
       " ('födas', 1),\n",
       " ('gris', 3),\n",
       " ('höns', 14),\n",
       " ('ovanligt', 43),\n",
       " ('strävsamma', 3),\n",
       " ('duktiga', 7),\n",
       " ('människor', 594),\n",
       " ('kor', 45),\n",
       " ('gäss', 26),\n",
       " ('gått', 647),\n",
       " ('ofantligt', 28),\n",
       " ('framåt', 258),\n",
       " ('vandrat', 36),\n",
       " ('nöjda', 28),\n",
       " ('glada', 171),\n",
       " ('vackra', 214),\n",
       " ('morgonen', 111),\n",
       " ('haft', 491),\n",
       " ('sonen', 156),\n",
       " ('tänka', 448),\n",
       " ('klagade', 54),\n",
       " ('trög', 10),\n",
       " ('lat', 5),\n",
       " ('ingenting', 720),\n",
       " ('velat', 292),\n",
       " ('lära', 164),\n",
       " ('skolan', 54),\n",
       " ('oduglig', 3),\n",
       " ('nätt', 36),\n",
       " ('jämnt', 43),\n",
       " ('valla', 3),\n",
       " ('nekade', 17),\n",
       " ('detta', 2482),\n",
       " ('sant', 161),\n",
       " ('bedrövad', 45),\n",
       " ('vild', 54),\n",
       " ('elak', 29),\n",
       " ('hård', 72),\n",
       " ('djur', 123),\n",
       " ('illvillig', 2),\n",
       " ('måtte', 324),\n",
       " ('bryta', 56),\n",
       " ('ondska', 25),\n",
       " ('ge', 489),\n",
       " ('annat', 968),\n",
       " ('sinnelag', 15),\n",
       " ('annars', 119),\n",
       " ('blir', 576),\n",
       " ('olycka', 137),\n",
       " ('stund', 585),\n",
       " ('funderade', 32),\n",
       " ('överens', 16),\n",
       " ('bäst', 198),\n",
       " ('vara', 1803),\n",
       " ('lydig', 12),\n",
       " ('satte', 459),\n",
       " ('prästgårdslänstolen', 1),\n",
       " ('började', 1006),\n",
       " ('hållit', 106),\n",
       " ('rabbla', 1),\n",
       " ('orden', 117),\n",
       " ('halvhögt', 4),\n",
       " ('mumlandet', 2),\n",
       " ('sövt', 1),\n",
       " ('märkte', 272),\n",
       " ('nickade', 48),\n",
       " ('ute', 471),\n",
       " ('allra', 136),\n",
       " ('vackraste', 21),\n",
       " ('vårväder', 3),\n",
       " ('längre', 367),\n",
       " ('kommet', 11),\n",
       " ('tjugonde', 2),\n",
       " ('bodde', 188),\n",
       " ('västra', 50),\n",
       " ('socken', 65),\n",
       " ('nere', 293),\n",
       " ('södra', 33),\n",
       " ('våren', 99),\n",
       " ('redan', 434),\n",
       " ('full', 165),\n",
       " ('friskt', 25),\n",
       " ('knoppande', 1),\n",
       " ('fanns', 702),\n",
       " ('vatten', 219),\n",
       " ('diken', 11),\n",
       " ('hästhovsörten', 1),\n",
       " ('blom', 5),\n",
       " ('dikeskanten', 4),\n",
       " ('krattet', 1),\n",
       " ('växte', 96),\n",
       " ('stengärdsgården', 6),\n",
       " ('brunt', 12),\n",
       " ('blankt', 11),\n",
       " ('bokskogen', 2),\n",
       " ('svällde', 8),\n",
       " ('tätare', 10),\n",
       " ('ögonblick', 331),\n",
       " ('hög', 178),\n",
       " ('rent', 140),\n",
       " ('blå', 70),\n",
       " ('stugdörren', 11),\n",
       " ('glänt', 11),\n",
       " ('hördes', 133),\n",
       " ('rummet', 211),\n",
       " ('lärkorna', 1),\n",
       " ('drillade', 2),\n",
       " ('hönsen', 21),\n",
       " ('gässen', 100),\n",
       " ('gården', 499),\n",
       " ('korna', 63),\n",
       " ('vårluften', 2),\n",
       " ('ända', 369),\n",
       " ('båsen', 1),\n",
       " ('gåvo', 22),\n",
       " ('ibland', 207),\n",
       " ('råmande', 2),\n",
       " ('läste', 118),\n",
       " ('stred', 13),\n",
       " ('sömnen', 21),\n",
       " ('somna', 21),\n",
       " ('hinner', 19),\n",
       " ('förmiddagen', 31),\n",
       " ('somnade', 41),\n",
       " ('sovit', 20),\n",
       " ('litet', 473),\n",
       " ('vaknade', 100),\n",
       " ('lätt', 322),\n",
       " ('buller', 16),\n",
       " ('bakom', 238),\n",
       " ('själva', 199),\n",
       " ('fönsterbrädet', 6),\n",
       " ('rätt', 716),\n",
       " ('framför', 502),\n",
       " ('liten', 592),\n",
       " ('spegel', 7),\n",
       " ('syntes', 158),\n",
       " ('detsamma', 282),\n",
       " ('lyfte', 213),\n",
       " ('huvudet', 294),\n",
       " ('råkade', 97),\n",
       " ('titta', 60),\n",
       " ('spegeln', 17),\n",
       " ('locket', 25),\n",
       " ('mors', 54),\n",
       " ('kista', 36),\n",
       " ('uppslaget', 2),\n",
       " ('ägde', 108),\n",
       " ('stor', 951),\n",
       " ('tung', 80),\n",
       " ('järnbeslagen', 1),\n",
       " ('ekkista', 1),\n",
       " ('öppna', 147),\n",
       " ('förvarade', 10),\n",
       " ('särskilt', 28),\n",
       " ('rädd', 396),\n",
       " ('lågo', 192),\n",
       " ('gammaldags', 28),\n",
       " ('bondkvinnedräkter', 1),\n",
       " ('rött', 40),\n",
       " ('kläde', 7),\n",
       " ('veckad', 1),\n",
       " ('kjol', 5),\n",
       " ('pärlbesatt', 1),\n",
       " ('bröstsmäck', 1),\n",
       " ('funnos', 107),\n",
       " ('stärkta', 4),\n",
       " ('vita', 248),\n",
       " ('huvudklutar', 1),\n",
       " ('silversöljor', 1),\n",
       " ('kedjor', 7),\n",
       " ('folk', 489),\n",
       " ('ville', 1571),\n",
       " ('sådant', 453),\n",
       " ('flera', 315),\n",
       " ('gånger', 233),\n",
       " ('tänkt', 226),\n",
       " ('sakerna', 13),\n",
       " ('hjärta', 201),\n",
       " ('tydligt', 121),\n",
       " ('kistan', 107),\n",
       " ('öppet', 31),\n",
       " ('förstå', 380),\n",
       " ('innan', 491),\n",
       " ('hänt', 73),\n",
       " ('lämnat', 87),\n",
       " ('öppen', 58),\n",
       " ('ensam', 292),\n",
       " ('riktigt', 370),\n",
       " ('hemsk', 24),\n",
       " ('mods', 18),\n",
       " ('tjuv', 18),\n",
       " ('smugit', 27),\n",
       " ('stugan', 302),\n",
       " ('vågade', 152),\n",
       " ('röra', 124),\n",
       " ('stilla', 506),\n",
       " ('medan', 568),\n",
       " ('väntade', 223),\n",
       " ('tjuven', 13),\n",
       " ('visa', 336),\n",
       " ('undra', 86),\n",
       " ('svart', 142),\n",
       " ('skugga', 26),\n",
       " ('föll', 217),\n",
       " ('kistkanten', 5),\n",
       " ('tro', 474),\n",
       " ('sina', 1278),\n",
       " ('ögon', 442),\n",
       " ('början', 205),\n",
       " ('skugglikt', 1),\n",
       " ('tydligare', 10),\n",
       " ('snart', 752),\n",
       " ('verkligt', 13),\n",
       " ('bättre', 453),\n",
       " ('tomte', 19),\n",
       " ('red', 40),\n",
       " ('grensle', 4),\n",
       " ('hört', 417),\n",
       " ('talas', 86),\n",
       " ('tomtar', 6),\n",
       " ('tvärhand', 5),\n",
       " ('gammalt', 91),\n",
       " ('rynkigt', 5),\n",
       " ('skägglöst', 1),\n",
       " ('ansikte', 293),\n",
       " ('klädd', 83),\n",
       " ('långrock', 3),\n",
       " ('knäbyxor', 5),\n",
       " ('bredskyggig', 1),\n",
       " ('hatt', 26),\n",
       " ('prydlig', 5),\n",
       " ('fin', 55),\n",
       " ('spetsar', 12),\n",
       " ('kring', 136),\n",
       " ('halsen', 61),\n",
       " ('handlederna', 1),\n",
       " ('spännen', 6),\n",
       " ('skorna', 18),\n",
       " ('strumpeband', 2),\n",
       " ('knutna', 14),\n",
       " ('rosetter', 1),\n",
       " ('tagit', 249),\n",
       " ('broderad', 4),\n",
       " ('smäck', 1),\n",
       " ('arbetet', 171),\n",
       " ('sådan', 702),\n",
       " ('andakt', 9),\n",
       " ('vaknat', 20),\n",
       " ('förvånad', 87),\n",
       " ('särdeles', 47),\n",
       " ('däremot', 43),\n",
       " ('omöjligt', 171),\n",
       " ('upptagen', 26),\n",
       " ('sitt', 1070),\n",
       " ('varken', 231),\n",
       " ('lustigt', 25),\n",
       " ('spela', 139),\n",
       " ('spratt', 22),\n",
       " ('knuffa', 6),\n",
       " ('slå', 186),\n",
       " ('igen', 671),\n",
       " ('ändå', 482),\n",
       " ('modig', 10),\n",
       " ('händerna', 238),\n",
       " ('stöta', 8),\n",
       " ('lät', 335),\n",
       " ('blickarna', 49),\n",
       " ('vandra', 111),\n",
       " ('liggsoffan', 2),\n",
       " ('slagbordet', 3),\n",
       " ('spisen', 61),\n",
       " ('grytorna', 2),\n",
       " ('kaffepannan', 9),\n",
       " ('stodo', 247),\n",
       " ('hylla', 7),\n",
       " ('vattenspannen', 1),\n",
       " ('slevar', 1),\n",
       " ('knivar', 6),\n",
       " ('gafflar', 1),\n",
       " ('fat', 12),\n",
       " ('tallrikar', 8),\n",
       " ('halvöppna', 2),\n",
       " ('skåpdörren', 1),\n",
       " ('hängde', 153),\n",
       " ('väggen', 61),\n",
       " ('danska', 2),\n",
       " ('kungligas', 1),\n",
       " ('porträtt', 28),\n",
       " ('pelargonierna', 2),\n",
       " ('fuksiorna', 1),\n",
       " ('blommade', 11),\n",
       " ('föllo', 40),\n",
       " ('blickar', 98),\n",
       " ('flughåv', 1),\n",
       " ('fönsterkarmen', 2),\n",
       " ('knappast', 160),\n",
       " ('fått', 818),\n",
       " ('syn', 136),\n",
       " ('flughåven', 2),\n",
       " ('förrän', 355),\n",
       " ('ryckte', 121),\n",
       " ('sprang', 201),\n",
       " ('svängde', 64),\n",
       " ('utmed', 86),\n",
       " ('tur', 52),\n",
       " ('förstod', 410),\n",
       " ('burit', 76),\n",
       " ('verkligen', 173),\n",
       " ('fångat', 5),\n",
       " ('stackaren', 23),\n",
       " ('bottnen', 30),\n",
       " ('håven', 5),\n",
       " ('neråt', 69),\n",
       " ('komma', 1343),\n",
       " ('ögonblicket', 64),\n",
       " ('alls', 229),\n",
       " ('fångst', 6),\n",
       " ('bara', 1709),\n",
       " ('noga', 75),\n",
       " ('svänga', 20),\n",
       " ('rådrum', 1),\n",
       " ('klättra', 33),\n",
       " ('tala', 845),\n",
       " ('bad', 200),\n",
       " ('innerligt', 11),\n",
       " ('frigiven', 6),\n",
       " ('gjort', 548),\n",
       " ('gott', 417),\n",
       " ('många', 715),\n",
       " ('värd', 42),\n",
       " ('medfart', 1),\n",
       " ('släppte', 38),\n",
       " ('lös', 74),\n",
       " ('speciedaler', 2),\n",
       " ('silversked', 2),\n",
       " ('guldpenning', 1),\n",
       " ('lika', 383),\n",
       " ('boetten', 4),\n",
       " ('silverur', 1),\n",
       " ('bjudet', 1),\n",
       " ('sedan', 1092),\n",
       " ('våld', 35),\n",
       " ('gett', 115),\n",
       " ('lag', 16),\n",
       " ('främmande', 253),\n",
       " ('hemskt', 41),\n",
       " ('värld', 61),\n",
       " ('otyget', 5),\n",
       " ('därför', 864),\n",
       " ('köpet', 18),\n",
       " ('höll', 554),\n",
       " ('kunna', 632),\n",
       " ('krypa', 38),\n",
       " ('borde', 316),\n",
       " ('betingat', 1),\n",
       " ('ägodelar', 11),\n",
       " ('möjligt', 176),\n",
       " ('ställt', 67),\n",
       " ('villkoret', 4),\n",
       " ('trollat', 1),\n",
       " ('dum', 37),\n",
       " ('gav', 286),\n",
       " ('fri', 112),\n",
       " ('skaka', 23),\n",
       " ('ramla', 10),\n",
       " ('förfärlig', 49),\n",
       " ('örfil', 5),\n",
       " ('trodde', 423),\n",
       " ('springa', 95),\n",
       " ('bitar', 7),\n",
       " ('for', 297),\n",
       " ('ena', 293),\n",
       " ('sjönk', 94),\n",
       " ('golvet', 151),\n",
       " ('liggande', 56),\n",
       " ('sanslös', 2),\n",
       " ('spår', 44),\n",
       " ('kistlocket', 12),\n",
       " ('vanliga', 94),\n",
       " ('plats', 244),\n",
       " ('känt', 120),\n",
       " ('högra', 15),\n",
       " ('kinden', 16),\n",
       " ('brände', 21),\n",
       " ('örfilen', 2),\n",
       " ('varit', 1721),\n",
       " ('frestad', 8),\n",
       " ('dröm', 52),\n",
       " ('alltsammans', 137),\n",
       " ('helst', 138),\n",
       " ('lär', 78),\n",
       " ('påstå', 8),\n",
       " ('avdrag', 2),\n",
       " ('tomtens', 6),\n",
       " ('skull', 318),\n",
       " ('sätter', 69),\n",
       " ('märke', 86),\n",
       " ('underligt', 83),\n",
       " ('ju', 1250),\n",
       " ('vuxit', 40),\n",
       " ('varav', 8),\n",
       " ('fler', 32),\n",
       " ('steg', 398),\n",
       " ('brukade', 287),\n",
       " ('stolen', 26),\n",
       " ('nyss', 141),\n",
       " ('förut', 320),\n",
       " ('stiga', 90),\n",
       " ('slån', 3),\n",
       " ('stolbenen', 1),\n",
       " ('nå', 154),\n",
       " ('sitsen', 7),\n",
       " ('sätt', 475),\n",
       " ('bordskivan', 4),\n",
       " ('kliva', 4),\n",
       " ('armstödet', 1),\n",
       " ('all', 460),\n",
       " ('världen', 363),\n",
       " ('menar', 104),\n",
       " ('förgjort', 2),\n",
       " ('synbarligen', 6),\n",
       " ('lik', 95),\n",
       " ('galet', 36),\n",
       " ('ord', 656),\n",
       " ('boken', 59),\n",
       " ('rader', 29),\n",
       " ('ropade', 389),\n",
       " ('helt', 551),\n",
       " ('högt', 290),\n",
       " ('parvel', 13),\n",
       " ('toppluva', 3),\n",
       " ('skinnbyxor', 7),\n",
       " ('ihop', 227),\n",
       " ('förvåning', 46),\n",
       " ('parveln', 50),\n",
       " ('dra', 101),\n",
       " ('håret', 76),\n",
       " ('nypa', 2),\n",
       " ('armarna', 81),\n",
       " ...]"
      ]
     },
     "execution_count": 28,
     "metadata": {},
     "output_type": "execute_result"
    }
   ],
   "source": [
    "frequency = unigrams(words)\n",
    "list(frequency.items())#[:20]\n"
   ]
  },
  {
   "cell_type": "markdown",
   "metadata": {},
   "source": [
    "#### Bigrams"
   ]
  },
  {
   "cell_type": "code",
   "execution_count": 29,
   "metadata": {},
   "outputs": [],
   "source": [
    "def bigrams(words):\n",
    "    bigrams = []\n",
    "    for i in range(len(words) - 1):\n",
    "        bigrams.append((words[i], words[i + 1]))\n",
    "    frequency_bigrams = {}\n",
    "    for i in range(len(words) - 1):\n",
    "        if bigrams[i] in frequency_bigrams:\n",
    "            frequency_bigrams[bigrams[i]] += 1\n",
    "        else:\n",
    "            frequency_bigrams[bigrams[i]] = 1\n",
    "    return frequency_bigrams"
   ]
  },
  {
   "cell_type": "code",
   "execution_count": 31,
   "metadata": {},
   "outputs": [
    {
     "data": {
      "text/plain": [
       "[(('<s>', 'selma'), 8),\n",
       " (('selma', 'lagerlöf'), 11),\n",
       " (('lagerlöf', 'nils'), 1),\n",
       " (('nils', 'holgerssons'), 6),\n",
       " (('holgerssons', 'underbara'), 4),\n",
       " (('underbara', 'resa'), 4),\n",
       " (('resa', 'genom'), 6),\n",
       " (('genom', 'sverige'), 5),\n",
       " (('sverige', '</s>'), 17),\n",
       " (('</s>', '<s>'), 59046),\n",
       " (('<s>', 'första'), 11),\n",
       " (('första', 'bandet'), 1),\n",
       " (('bandet', 'bokutgåva'), 2),\n",
       " (('bokutgåva', 'albert'), 11),\n",
       " (('albert', 'bonniers'), 11),\n",
       " (('bonniers', 'förlag'), 11),\n",
       " (('förlag', 'stockholm'), 10),\n",
       " (('stockholm', '</s>'), 24),\n",
       " (('<s>', 'den'), 1375),\n",
       " (('den', 'kristliga'), 2)]"
      ]
     },
     "execution_count": 31,
     "metadata": {},
     "output_type": "execute_result"
    }
   ],
   "source": [
    "frequency_bigrams = bigrams(words)\n",
    "list(frequency_bigrams.items())[:20]\n"
   ]
  },
  {
   "cell_type": "markdown",
   "metadata": {},
   "source": [
    "In the report, tell what is the possible number of bigrams and their real number? Explain why such a difference. What would be the possible number of 4-grams.\n",
    "\n",
    "Propose a solution to cope with bigrams unseen in the corpus."
   ]
  },
  {
   "cell_type": "markdown",
   "metadata": {},
   "source": [
    "### Computing the likelihood of a sentence"
   ]
  },
  {
   "cell_type": "markdown",
   "metadata": {},
   "source": [
    "#### Unigrams"
   ]
  },
  {
   "cell_type": "markdown",
   "metadata": {},
   "source": [
    "Write a program to compute a sentence's probability using unigrams. You may find useful the dictionaries that we saw in the mutual information program: [<a href=\"https://github.com/pnugues/ilppp/tree/master/programs/ch05/python\">Program folder</a>]. Your function will return the perplexity."
   ]
  },
  {
   "cell_type": "markdown",
   "metadata": {},
   "source": [
    "Your function should print and tabulate the results as in the examples below with the sentence _Det var en gång en katt som hette Nils_."
   ]
  },
  {
   "cell_type": "markdown",
   "metadata": {},
   "source": [
    "```\n",
    "=====================================================\n",
    "wi \t C(wi) \t #words \t P(wi)\n",
    "=====================================================\n",
    "det \t 21108 \t 1041631 \t 0.0202643738521607\n",
    "var \t 12090 \t 1041631 \t 0.01160679741674355\n",
    "en \t 13514 \t 1041631 \t 0.01297388422579589\n",
    "gång \t 1332 \t 1041631 \t 0.001278763784871994\n",
    "en \t 13514 \t 1041631 \t 0.01297388422579589\n",
    "katt \t 16 \t 1041631 \t 1.5360525944408337e-05\n",
    "som \t 16288 \t 1041631 \t 0.015637015411407686\n",
    "hette \t 97 \t 1041631 \t 9.312318853797554e-05\n",
    "nils \t 87 \t 1041631 \t 8.352285982272032e-05\n",
    "</s> \t 59047 \t 1041631 \t 0.056687060964967444\n",
    "=====================================================\n",
    "Prob. unigrams:\t 5.361459667285409e-27\n",
    "Geometric mean prob.: 0.0023600885848765307\n",
    "Entropy rate:\t 8.726943273141258\n",
    "Perplexity:\t 423.71290908655254\n",
    "```"
   ]
  },
  {
   "cell_type": "code",
   "execution_count": 32,
   "metadata": {},
   "outputs": [],
   "source": [
    "\n",
    "def unigram_lm(frequencey, send_words):\n",
    "    #detta blir lite fel pga \n",
    "    sum=0\n",
    "    for f in frequencey.keys():\n",
    "        sum= sum+frequencey[f]\n",
    "    sum2=1\n",
    "\n",
    "    lw=sum;\n",
    "    print('=====================================================')\n",
    "    print('wi    C(wi)    #words    P(wi)')\n",
    "    print('=====================================================')\n",
    "    for s in send_words:\n",
    "        c=frequencey[s]\n",
    "        p=c/lw\n",
    "        sum2=sum2*p\n",
    "\n",
    "        print(s,'    ',c,'    ',lw,'   ',p)\n",
    "    \n",
    "    entropy=-math.log(sum2,2)/len(send_words)\n",
    "    perp=2**(entropy)\n",
    "    print('=====================================================')\n",
    "    \n",
    "    print('Prob. unigrams:    ',sum2)\n",
    "    print('Geometric mean prob.:',sum2**(1/len(send_words)))\n",
    "    print('Entropy rate:     ',entropy )\n",
    "    print('Perplexity:  ',perp)\n",
    "    return(perp)\n",
    "    \n",
    "\n",
    " \n",
    "    "
   ]
  },
  {
   "cell_type": "code",
   "execution_count": 33,
   "metadata": {},
   "outputs": [
    {
     "data": {
      "text/plain": [
       "['detta',\n",
       " 'hände',\n",
       " 'i',\n",
       " 'början',\n",
       " 'av',\n",
       " 'adertonhundratjugutalet',\n",
       " 'i',\n",
       " 'en',\n",
       " 'avlägsen',\n",
       " 'socken',\n",
       " 'i',\n",
       " 'västra',\n",
       " 'värmland',\n",
       " '</s>']"
      ]
     },
     "execution_count": 33,
     "metadata": {},
     "output_type": "execute_result"
    }
   ],
   "source": [
    "sentence = 'detta hände i början av adertonhundratjugutalet i en avlägsen socken i västra värmland </s>'\n",
    "sent_words = sentence.split()\n",
    "sent_words"
   ]
  },
  {
   "cell_type": "code",
   "execution_count": 34,
   "metadata": {},
   "outputs": [
    {
     "name": "stdout",
     "output_type": "stream",
     "text": [
      "=====================================================\n",
      "wi    C(wi)    #words    P(wi)\n",
      "=====================================================\n",
      "detta      2482      1041560     0.002382964015515189\n",
      "hände      122      1041560     0.00011713199431621799\n",
      "i      16508      1041560     0.015849302968623986\n",
      "början      205      1041560     0.0001968201543838089\n",
      "av      5435      1041560     0.005218134336956105\n",
      "adertonhundratjugutalet      4      1041560     3.840393256269442e-06\n",
      "i      16508      1041560     0.015849302968623986\n",
      "en      13514      1041560     0.01297476861630631\n",
      "avlägsen      5      1041560     4.800491570336803e-06\n",
      "socken      65      1041560     6.240639041437844e-05\n",
      "i      16508      1041560     0.015849302968623986\n",
      "västra      50      1041560     4.800491570336803e-05\n",
      "värmland      84      1041560     8.064825838165828e-05\n",
      "</s>      59047      1041560     0.056690925150735434\n",
      "=====================================================\n",
      "Prob. unigrams:     3.7393205093489276e-45\n",
      "Geometric mean prob.: 0.0006708540552614568\n",
      "Entropy rate:      10.541713438238645\n",
      "Perplexity:   1490.6371842833437\n"
     ]
    }
   ],
   "source": [
    "perplexity_unigrams = unigram_lm(frequency, sent_words)"
   ]
  },
  {
   "cell_type": "code",
   "execution_count": 35,
   "metadata": {},
   "outputs": [
    {
     "data": {
      "text/plain": [
       "1490"
      ]
     },
     "execution_count": 35,
     "metadata": {},
     "output_type": "execute_result"
    }
   ],
   "source": [
    "perplexity_unigrams = int(perplexity_unigrams)\n",
    "perplexity_unigrams"
   ]
  },
  {
   "cell_type": "markdown",
   "metadata": {},
   "source": [
    "#### Bigrams"
   ]
  },
  {
   "cell_type": "markdown",
   "metadata": {},
   "source": [
    "Write a program to compute the sentence probability using bigrams. Your function will tabulate and print the results as below. It will return the perplexity."
   ]
  },
  {
   "cell_type": "markdown",
   "metadata": {},
   "source": [
    "```\n",
    "=====================================================\n",
    "wi \t wi+1 \t Ci,i+1 \t C(i) \t P(wi+1|wi)\n",
    "=====================================================\n",
    "<s>\t det \t 5672 \t 59047 \t 0.09605907158704083\n",
    "det \t var \t 3839 \t 21108 \t 0.1818741709304529\n",
    "var \t en \t 712 \t 12090 \t 0.058891645988420185\n",
    "en \t gång \t 706 \t 13514 \t 0.052242119283705785\n",
    "gång \t en \t 20 \t 1332 \t 0.015015015015015015\n",
    "en \t katt \t 6 \t 13514 \t 0.0004439840165754033\n",
    "katt \t som \t 2 \t 16 \t 0.125\n",
    "som \t hette \t 45 \t 16288 \t 0.002762770137524558\n",
    "hette \t nils \t 0 \t 97 \t 0.0 \t *backoff: \t 8.352285982272032e-05\n",
    "nils \t </s> \t 2 \t 87 \t 0.022988505747126436\n",
    "=====================================================\n",
    "Prob. bigrams:\t 2.376007803503683e-19\n",
    "Geometric mean prob.: 0.013727289294133601\n",
    "Entropy rate:\t 6.186809422848149\n",
    "Perplexity:\t 72.84759420254609\n",
    "```"
   ]
  },
  {
   "cell_type": "code",
   "execution_count": 36,
   "metadata": {},
   "outputs": [],
   "source": [
    "\n",
    "def bigram_lm(frequency, frequency_bigrams, send_words):\n",
    "    #detta blir lite fel pga \n",
    "\n",
    "    send_words.insert(0,'<s>')\n",
    "    sum=0\n",
    "    for f in frequency.keys():\n",
    "        sum= sum+frequency[f]\n",
    "        \n",
    "    sum2=1\n",
    "\n",
    "    lw=sum\n",
    "    print('=====================================================')\n",
    "    print('wi    wi+1    Ci,i+1    C(i)    P(wi+1|wi)')\n",
    "    print('=====================================================')\n",
    "    for s in range(0,len(send_words)-1):\n",
    "        fw=send_words[s]\n",
    "        sw=send_words[s+1]\n",
    "        if (fw,sw) in frequency_bigrams.keys():\n",
    "            ciip1=frequency_bigrams[(fw,sw)]\n",
    "            ci=frequency[fw]\n",
    "            p=ciip1/ci\n",
    "            sum2=sum2*p\n",
    "            print(fw,'    ',sw,'    ',ciip1,'    ',ci,'   ',p)\n",
    "    \n",
    "        else:\n",
    "            ciip1=0 \n",
    "            ci=frequency[fw]\n",
    "            p=frequency[sw]/lw\n",
    "            sum2=sum2*p\n",
    "            print(fw,'    ',sw,'    ',ciip1,'    ',ci,' 0.0   *backoff:',p)\n",
    "            \n",
    "    entropy=-math.log(sum2,2)/(len(send_words)-1)\n",
    "    perp=2**(entropy)\n",
    "    print('=====================================================')\n",
    "    \n",
    "    print('Prob. bigrams:    ',sum2)\n",
    "    print('Geometric mean prob.:',sum2**(1/(len(send_words)-1)))\n",
    "    print('Entropy rate:     ',entropy )\n",
    "    print('Perplexity:  ',perp)\n",
    "    return(perp)"
   ]
  },
  {
   "cell_type": "code",
   "execution_count": 37,
   "metadata": {},
   "outputs": [
    {
     "name": "stdout",
     "output_type": "stream",
     "text": [
      "['detta', 'hände', 'i', 'början', 'av', 'adertonhundratjugutalet', 'i', 'en', 'avlägsen', 'socken', 'i', 'västra', 'värmland', '</s>']\n",
      "=====================================================\n",
      "wi    wi+1    Ci,i+1    C(i)    P(wi+1|wi)\n",
      "=====================================================\n",
      "<s>      detta      298      59047     0.00504682710383254\n",
      "detta      hände      7      2482     0.0028203062046736503\n",
      "hände      i      1      122     0.00819672131147541\n",
      "i      början      75      16508     0.004543251756724012\n",
      "början      av      27      205     0.13170731707317074\n",
      "av      adertonhundratjugutalet      1      5435     0.0001839926402943882\n",
      "adertonhundratjugutalet      i      1      4     0.25\n",
      "i      en      575      16508     0.03483159680155076\n",
      "en      avlägsen      1      13514     7.399733609590054e-05\n",
      "avlägsen      socken      1      5     0.2\n",
      "socken      i      7      65     0.1076923076923077\n",
      "i      västra      10      16508     0.000605766900896535\n",
      "västra      värmland      3      50     0.06\n",
      "värmland      </s>      24      84     0.2857142857142857\n",
      "=====================================================\n",
      "Prob. bigrams:     1.8512493550791484e-27\n",
      "Geometric mean prob.: 0.012317801709451777\n",
      "Entropy rate:      6.343111380645508\n",
      "Perplexity:   81.1833169251843\n"
     ]
    }
   ],
   "source": [
    "print(sent_words)\n",
    "perplexity_bigrams = bigram_lm(frequency, frequency_bigrams, sent_words)"
   ]
  },
  {
   "cell_type": "code",
   "execution_count": 73,
   "metadata": {},
   "outputs": [
    {
     "data": {
      "text/plain": [
       "81"
      ]
     },
     "execution_count": 73,
     "metadata": {},
     "output_type": "execute_result"
    }
   ],
   "source": [
    "perplexity_bigrams = int(perplexity_bigrams)\n",
    "perplexity_bigrams"
   ]
  },
  {
   "cell_type": "markdown",
   "metadata": {},
   "source": [
    "In addition to this sentence, _Det var en gång en katt som hette Nils_, write five other sentences that will form your test set and run your programs on them. You will insert them in your report."
   ]
  },
  {
   "cell_type": "markdown",
   "metadata": {},
   "source": [
    "### Online prediction of words"
   ]
  },
  {
   "cell_type": "markdown",
   "metadata": {},
   "source": [
    "You will now carry out an online prediction of words. You will consider two cases:\n",
    "1. Prediction of the current word a user is typing;\n",
    "2. Prediction of the next word.\n",
    "\n",
    "Ideally, you would write a loop that reads the words and apply the models while typing. As the Jupyter labs are not designed for interactive input and output, we will simplify the experimental settings with constant strings at a given time of the input.  \n",
    "\n",
    "We will assume the user is typing the phrase: _Det var en gång_. "
   ]
  },
  {
   "cell_type": "markdown",
   "metadata": {},
   "source": [
    "#### Trigrams"
   ]
  },
  {
   "cell_type": "markdown",
   "metadata": {},
   "source": [
    "To have a more accurate prediction, you will use a trigram counting function. Program this function following the model of your bigram counting function."
   ]
  },
  {
   "cell_type": "code",
   "execution_count": 98,
   "metadata": {},
   "outputs": [],
   "source": [
    "def trigrams(words):\n",
    "    trigrams = []\n",
    "    for i in range(len(words) - 2):\n",
    "        trigrams.append((words[i], words[i + 1],words[i+2]))\n",
    "    frequency_trigrams = {}\n",
    "    for i in range(len(words) - 2):\n",
    "        if trigrams[i] in frequency_trigrams:\n",
    "            frequency_trigrams[trigrams[i]] += 1\n",
    "        else:\n",
    "            frequency_trigrams[trigrams[i]] = 1\n",
    "    return frequency_trigrams"
   ]
  },
  {
   "cell_type": "code",
   "execution_count": 99,
   "metadata": {},
   "outputs": [
    {
     "data": {
      "text/plain": [
       "330"
      ]
     },
     "execution_count": 99,
     "metadata": {},
     "output_type": "execute_result"
    }
   ],
   "source": [
    "frequency_trigrams = trigrams(words)\n",
    "frequency_trigrams[('det', 'var', 'en')]"
   ]
  },
  {
   "cell_type": "markdown",
   "metadata": {},
   "source": [
    "#### Prediction"
   ]
  },
  {
   "cell_type": "markdown",
   "metadata": {},
   "source": [
    "The user starts typing _Det var en gång_. After the 2nd character, your program tries to help the user with suggested words."
   ]
  },
  {
   "cell_type": "code",
   "execution_count": 118,
   "metadata": {},
   "outputs": [
    {
     "data": {
      "text/plain": [
       "'de'"
      ]
     },
     "execution_count": 118,
     "metadata": {},
     "output_type": "execute_result"
    }
   ],
   "source": [
    "starting_text = 'De'.lower()\n",
    "starting_text"
   ]
  },
  {
   "cell_type": "markdown",
   "metadata": {},
   "source": [
    "Write a program to rank the five first candidates at this point. Assign these predictions in a list that you will call `current_word_predictions_1`. Note that you are starting a sentence and you can then use the bigram frequencies. Write a sorting key that will enable you have a deterministic ranking of the words or bigrams with identical frequencies: When two words have the same frequency, you will sort them by alphabetic order. You can do this with a tuple."
   ]
  },
  {
   "cell_type": "code",
   "execution_count": 119,
   "metadata": {},
   "outputs": [],
   "source": [
    "cand_nbr = 5"
   ]
  },
  {
   "cell_type": "code",
   "execution_count": 120,
   "metadata": {},
   "outputs": [],
   "source": [
    "temp=re.findall(r'\\bde\\p{L}*',corpus)\n",
    "temp=list(set(temp))\n",
    "temp2=[]\n",
    "for t in temp:\n",
    "    if ('<s>',t) in frequency_bigrams.keys():\n",
    "        temp2.append(t)\n",
    "temp2.sort()\n",
    "temp2.sort(key=lambda x: frequency_bigrams[('<s>',x)],reverse=True)\n",
    "current_word_predictions_1=temp2[:5]\n",
    "\n"
   ]
  },
  {
   "cell_type": "code",
   "execution_count": 121,
   "metadata": {},
   "outputs": [
    {
     "data": {
      "text/plain": [
       "['det', 'de', 'den', 'detta', 'denna']"
      ]
     },
     "execution_count": 121,
     "metadata": {},
     "output_type": "execute_result"
    }
   ],
   "source": [
    "current_word_predictions_1"
   ]
  },
  {
   "cell_type": "markdown",
   "metadata": {},
   "source": [
    "Let us now suppose that the user has typed: _Det var en_. After detecting a space, your program starts predicting a next possible word."
   ]
  },
  {
   "cell_type": "code",
   "execution_count": 122,
   "metadata": {},
   "outputs": [
    {
     "data": {
      "text/plain": [
       "'det var en '"
      ]
     },
     "execution_count": 122,
     "metadata": {},
     "output_type": "execute_result"
    }
   ],
   "source": [
    "current_text = \"Det var en \".lower()\n",
    "current_text"
   ]
  },
  {
   "cell_type": "markdown",
   "metadata": {},
   "source": [
    "Tokenize this text and return a list of tokens. Call it `tokens`."
   ]
  },
  {
   "cell_type": "code",
   "execution_count": 123,
   "metadata": {},
   "outputs": [],
   "source": [
    "tokens=tokenize(current_text)"
   ]
  },
  {
   "cell_type": "code",
   "execution_count": 124,
   "metadata": {},
   "outputs": [
    {
     "data": {
      "text/plain": [
       "['det', 'var', 'en']"
      ]
     },
     "execution_count": 124,
     "metadata": {},
     "output_type": "execute_result"
    }
   ],
   "source": [
    "tokens"
   ]
  },
  {
   "cell_type": "markdown",
   "metadata": {},
   "source": [
    "Write a program to propose the five next possible words ranked by frequency using a trigram model. Assign these predictions to a variable that you will call `next_word_predictions`. Write a sorting key that will enable you have a deterministic ranking of the words or bigrams with identical frequencies: When two words have the same frequency, you will sort them by alphabetic order. You can do this with a tuple."
   ]
  },
  {
   "cell_type": "code",
   "execution_count": 125,
   "metadata": {},
   "outputs": [],
   "source": [
    "temp=words #re.findall(r'\\bde\\p{L}*',corpus)\n",
    "temp=list(set(temp))\n",
    "temp2=[]\n",
    "for t in temp:\n",
    "    if ('var','en',t) in frequency_trigrams.keys():\n",
    "        temp2.append(t)\n",
    "temp2.sort()\n",
    "temp2.sort(key=lambda x: frequency_trigrams[('var','en',x)],reverse=True)\n",
    "next_word_predictions=temp2[:5]\n",
    "\n"
   ]
  },
  {
   "cell_type": "code",
   "execution_count": 126,
   "metadata": {},
   "outputs": [
    {
     "data": {
      "text/plain": [
       "['stor', 'liten', 'gammal', 'god', 'sådan']"
      ]
     },
     "execution_count": 126,
     "metadata": {},
     "output_type": "execute_result"
    }
   ],
   "source": [
    "next_word_predictions"
   ]
  },
  {
   "cell_type": "markdown",
   "metadata": {},
   "source": [
    "Finally, let us suppose that the user has typed _Det var en g_, rank the five possible candidates. Assign these predictions in a list that you will call `current_word_predictions_2`"
   ]
  },
  {
   "cell_type": "code",
   "execution_count": 127,
   "metadata": {},
   "outputs": [],
   "source": [
    "current_text = \"Det var en g\".lower()"
   ]
  },
  {
   "cell_type": "code",
   "execution_count": 128,
   "metadata": {},
   "outputs": [],
   "source": [
    "temp=re.findall(r'\\bg\\p{L}*',corpus)\n",
    "temp=list(set(temp))\n",
    "#print(temp)\n",
    "temp2=[]\n",
    "for t in temp:\n",
    "    if ('var','en',t) in frequency_trigrams.keys():\n",
    "        temp2.append(t)\n",
    "temp2.sort()\n",
    "temp2.sort(key=lambda x: frequency_trigrams[('var','en',x)],reverse=True)\n",
    "current_word_predictions_2=temp2[:5]\n",
    "\n",
    "#frequency_trigrams[('var','en','glädje',)]\n"
   ]
  },
  {
   "cell_type": "code",
   "execution_count": 129,
   "metadata": {},
   "outputs": [
    {
     "data": {
      "text/plain": [
       "['gammal', 'god', 'gång', 'ganska', 'glädje']"
      ]
     },
     "execution_count": 129,
     "metadata": {},
     "output_type": "execute_result"
    }
   ],
   "source": [
    "current_word_predictions_2"
   ]
  },
  {
   "cell_type": "markdown",
   "metadata": {
    "tags": []
   },
   "source": [
    "## Checked answers"
   ]
  },
  {
   "cell_type": "markdown",
   "metadata": {},
   "source": [
    "The automatic marking system will check these answers: `(perplexity_unigrams, perplexity_bigrams, current_word_predictions_1, next_word_predictions, current_word_predictions_2)`"
   ]
  },
  {
   "cell_type": "code",
   "execution_count": 130,
   "metadata": {},
   "outputs": [
    {
     "data": {
      "text/plain": [
       "(423,\n",
       " 72,\n",
       " ['det', 'de', 'den', 'detta', 'denna'],\n",
       " ['stor', 'liten', 'gammal', 'god', 'sådan'],\n",
       " ['gammal', 'god', 'gång', 'ganska', 'glädje'])"
      ]
     },
     "execution_count": 130,
     "metadata": {},
     "output_type": "execute_result"
    }
   ],
   "source": [
    "(perplexity_unigrams, perplexity_bigrams, current_word_predictions_1, next_word_predictions, current_word_predictions_2)"
   ]
  },
  {
   "cell_type": "markdown",
   "metadata": {},
   "source": [
    "## Submission"
   ]
  },
  {
   "cell_type": "markdown",
   "metadata": {},
   "source": [
    "When you have written all the code and run all the cells, fill in your ID and as well as the name of the notebook."
   ]
  },
  {
   "cell_type": "code",
   "execution_count": 131,
   "metadata": {},
   "outputs": [],
   "source": [
    "STIL_ID = [\"Fa0188ni-s\", \"Mo0708ho-s\"] # Write your stil ids as a list\n",
    "CURRENT_NOTEBOOK_PATH = os.path.join(os.getcwd(), \n",
    "                                     \"2-language_models_solution.ipynb\") # Write the name of your notebook"
   ]
  },
  {
   "cell_type": "markdown",
   "metadata": {},
   "source": [
    "The submission code will send your answer. It consists of the perplexities and predictions."
   ]
  },
  {
   "cell_type": "code",
   "execution_count": 132,
   "metadata": {},
   "outputs": [
    {
     "data": {
      "text/plain": [
       "'{\"perplexity_unigrams\": 423, \"perplexity_bigrams\": 72, \"current_word_predictions_1\": [\"det\", \"de\", \"den\", \"detta\", \"denna\"], \"next_word_predictions\": [\"stor\", \"liten\", \"gammal\", \"god\", \"s\\\\u00e5dan\"], \"current_word_predictions_2\": [\"gammal\", \"god\", \"g\\\\u00e5ng\", \"ganska\", \"gl\\\\u00e4dje\"]}'"
      ]
     },
     "execution_count": 132,
     "metadata": {},
     "output_type": "execute_result"
    }
   ],
   "source": [
    "import json\n",
    "ANSWER = json.dumps({'perplexity_unigrams': perplexity_unigrams,\n",
    "                     'perplexity_bigrams': perplexity_bigrams,\n",
    "                     'current_word_predictions_1': current_word_predictions_1,\n",
    "                     'next_word_predictions': next_word_predictions,\n",
    "                     'current_word_predictions_2': current_word_predictions_2})\n",
    "ANSWER"
   ]
  },
  {
   "cell_type": "markdown",
   "metadata": {},
   "source": [
    "The checking script will accept perplexities with a margin, like for instance:\n",
    "```\n",
    "(421, 72, ['det', 'de', 'den', 'detta', 'denna'], ['stor', 'liten', 'gammal', 'god', 'sådan'], ['gammal', 'god', 'gång', 'ganska', 'glädje'])\n",
    "```"
   ]
  },
  {
   "cell_type": "markdown",
   "metadata": {},
   "source": [
    "Now the moment of truth:\n",
    "1. Save your notebook and\n",
    "2. Run the cells below"
   ]
  },
  {
   "cell_type": "code",
   "execution_count": 55,
   "metadata": {},
   "outputs": [],
   "source": [
    "SUBMISSION_NOTEBOOK_PATH = CURRENT_NOTEBOOK_PATH + \".submission.bz2\""
   ]
  },
  {
   "cell_type": "code",
   "execution_count": 56,
   "metadata": {},
   "outputs": [],
   "source": [
    "ASSIGNMENT = 2\n",
    "API_KEY = \"f581ba347babfea0b8f2c74a3a6776a7\"\n",
    "\n",
    "# Copy and compress current notebook\n",
    "with bz2.open(SUBMISSION_NOTEBOOK_PATH, mode=\"wb\") as fout:\n",
    "    with open(CURRENT_NOTEBOOK_PATH, \"rb\") as fin:\n",
    "        fout.write(fin.read())"
   ]
  },
  {
   "cell_type": "code",
   "execution_count": 57,
   "metadata": {},
   "outputs": [
    {
     "data": {
      "text/plain": [
       "{'msg': None,\n",
       " 'status': 'correct',\n",
       " 'signature': 'ef5370e5c56f10168ae79f3f8b2e09b2435b9c9b70c41e6b4313157b7dbff43d227c359e6774c5c9163347f3e1a6a0a1cb6301e80a1f7b2dfc647c15577c1909',\n",
       " 'submission_id': '08986bf2-c8d4-40cd-84c8-9e5f84594908'}"
      ]
     },
     "execution_count": 57,
     "metadata": {},
     "output_type": "execute_result"
    }
   ],
   "source": [
    "res = requests.post(\"https://vilde.cs.lth.se/edan20checker/submit\", \n",
    "                    files={\"notebook_file\": open(SUBMISSION_NOTEBOOK_PATH, \"rb\")}, \n",
    "                    data={\n",
    "                        \"stil_id\": STIL_ID,\n",
    "                        \"assignment\": ASSIGNMENT,\n",
    "                        \"answer\": ANSWER,\n",
    "                        \"api_key\": API_KEY,\n",
    "                    },\n",
    "                   verify=True)\n",
    "\n",
    "# from IPython.display import display, JSON\n",
    "res.json()"
   ]
  },
  {
   "cell_type": "markdown",
   "metadata": {},
   "source": [
    "## Turning in your assignment"
   ]
  },
  {
   "cell_type": "markdown",
   "metadata": {},
   "source": [
    "Now your are done with the program. To complete this assignment, you will:\n",
    "1. Write a short individual report on your program. Do not forget to include the unigram and bigram tables for five sentences and _Det var en gång en katt som hette Nils_.\n",
    "2. Execute the Jupyter notebook by Peter Norvig here: <a href=\"http://nbviewer.jupyter.org/url/norvig.com/ipython/How%20to%20Do%20Things%20with%20Words.ipynb\">https://nbviewer.jupyter.org/url/norvig.com/ipython/How to Do Things with Words.ipynb</a>. Just run all the cells and be sure that you understand the code. You will find the data here: <a href=\"http://norvig.com/ngrams/\">http://norvig.com/ngrams/</a>.\n",
    "3. In your report, after the description of your program, you will describe one experiment with Norvig's notebook and a long string of words your will create yourself or copy from a text you like. You will remove all the punctuation and white spaces from this string. You will set this string in lowercase letters. You will just add a cell at the end of Sect. 7 in Norvig's notebook, where you will use your string and run the notebook cell with the <tt>segment()</tt> and <tt>segment2()</tt> functions. You will comment the segmentation results you obtain with the unigram and bigram models.\n",
    "\n",
    "Submit your report as well as your notebook (for archiving purposes) to Canvas: https://canvas.education.lu.se/. To write your report, you can either\n",
    "1. Write directly your text in Canvas, or\n",
    "2. Use Latex and Overleaf (www.overleaf.com). This will probably help you structure your text. You will then upload a PDF file in Canvas.\n",
    "\n",
    "The submission deadline is September 24, 2021."
   ]
  },
  {
   "cell_type": "code",
   "execution_count": null,
   "metadata": {},
   "outputs": [],
   "source": []
  }
 ],
 "metadata": {
  "kernelspec": {
   "display_name": "Python 3",
   "language": "python",
   "name": "python3"
  },
  "language_info": {
   "codemirror_mode": {
    "name": "ipython",
    "version": 3
   },
   "file_extension": ".py",
   "mimetype": "text/x-python",
   "name": "python",
   "nbconvert_exporter": "python",
   "pygments_lexer": "ipython3",
   "version": "3.8.8"
  }
 },
 "nbformat": 4,
 "nbformat_minor": 4
}
