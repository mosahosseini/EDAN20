{
 "cells": [
  {
   "cell_type": "markdown",
   "metadata": {},
   "source": [
    "# Assignment #3: A simple language classifier"
   ]
  },
  {
   "cell_type": "markdown",
   "metadata": {},
   "source": [
    "Author: Pierre Nugues"
   ]
  },
  {
   "cell_type": "markdown",
   "metadata": {},
   "source": [
    "## Objectives"
   ]
  },
  {
   "cell_type": "markdown",
   "metadata": {},
   "source": [
    "In this assignment, you will implement a language detector inspired from Google's _Compact language detector_, version 3 (CLD3): https://github.com/google/cld3. CLD3 is written in C++ and its code is available from GitHub. The objectives of the assignment are to:\n",
    "* Write a program to classify languages\n",
    "* Use neural networks\n",
    "* Know what a classifier is\n",
    "* Write a short report of 1 to 2 pages to describe your program. You will notably comment the performance you obtained and how you could improve it."
   ]
  },
  {
   "cell_type": "markdown",
   "metadata": {},
   "source": [
    "## Description"
   ]
  },
  {
   "cell_type": "markdown",
   "metadata": {},
   "source": [
    "### System Overview"
   ]
  },
  {
   "cell_type": "markdown",
   "metadata": {},
   "source": [
    "Read the GitHub description of CLD3, https://github.com/google/cld3, (_Model_ section). In your individual report you will:\n",
    "1. Summarize the system in two or three sentences;\n",
    "2. Outline the CLD3 overall architecture in a figure. Use building blocks only and do not specify the parameters."
   ]
  },
  {
   "cell_type": "markdown",
   "metadata": {},
   "source": [
    "## Imports"
   ]
  },
  {
   "cell_type": "code",
   "execution_count": 1,
   "metadata": {},
   "outputs": [],
   "source": [
    "import bz2\n",
    "import json\n",
    "import os\n",
    "import numpy as np\n",
    "import regex as re\n",
    "import pickle\n",
    "from collections import Counter\n",
    "import requests\n",
    "import sys\n",
    "from sklearn.neural_network import MLPClassifier\n",
    "from sklearn.feature_extraction import DictVectorizer\n",
    "from sklearn.metrics import accuracy_score\n",
    "from sklearn.metrics import f1_score, classification_report\n",
    "from sklearn.metrics import confusion_matrix"
   ]
  },
  {
   "cell_type": "markdown",
   "metadata": {},
   "source": [
    "### Dataset"
   ]
  },
  {
   "cell_type": "markdown",
   "metadata": {},
   "source": [
    "As dataset, we will use Tatoeba, https://tatoeba.org/eng/downloads. It consists of more than 8 million short texts in 347 languages and it is available in one file called `sentences.csv`.\n",
    "\n",
    "The dataset is structured this way: There is one text per line, where each line consists of the three following fields separated by tabulations and ended by a carriage return:\n",
    "```\n",
    "sentence id [tab] language code [tab] text [cr]\n",
    "```\n",
    "Each text (sentence) has a unique id and has a language code that follows the ISO 639-3 standard (see below). "
   ]
  },
  {
   "cell_type": "markdown",
   "metadata": {},
   "source": [
    "### Scope of the lab"
   ]
  },
  {
   "cell_type": "markdown",
   "metadata": {},
   "source": [
    "In this lab, you will consider three languages only: French (fra), English (eng), and Swedish (swe). Below is an excerpt of the Tatoeba dataset limited to these three languages: \n",
    "\n",
    "```\n",
    "1276    eng     Let's try something.\n",
    "1277    eng     I have to go to sleep.\n",
    "1280    eng     Today is June 18th and it is Muiriel's birthday!\n",
    "...\n",
    "1115    fra     Lorsqu'il a demandé qui avait cassé la fenêtre, tous les garçons ont pris un air innocent.\n",
    "1279    fra     Je ne supporte pas ce type.\n",
    "1441    fra     Pour une fois dans ma vie je fais un bon geste... Et ça ne sert à rien.\n",
    "...\n",
    "337413  swe     Vi trodde att det var ett flygande tefat.\n",
    "341910  swe     Detta är huset jag bodde i när jag var barn.\n",
    "341938  swe     Vi hade roligt på stranden igår.\n",
    "...\n",
    "```\n",
    "Tatoeba is updated continuously. The examples from this dataset come from a corpus your instructor downloaded on September 23, 2021."
   ]
  },
  {
   "cell_type": "markdown",
   "metadata": {},
   "source": [
    "### Understanding the $\\mathbf{X}$ matrix (feature matrix)"
   ]
  },
  {
   "cell_type": "markdown",
   "metadata": {},
   "source": [
    "You will now investigate the CLD3 features:\n",
    " *  What are the features CLD3 extracts from each text?\n",
    " * Create manually a simplified $\\mathbf{X}$ matrix where you will represent the 9 texts with CLD3 features. You will use a restricted set of features: You will only consider the letters _a_, _b_, and _n_ and the bigrams _an_, _ba_, and _na_. You will ignore the the rest of letters and bigrams as well as the trigrams. Your matrix will have 9 rows and 6 columns, each column will contain these counts: `[#a, #b, #n, #an, #ba, #na]`.\n",
    "\n",
    "The CLD3's original description uses relative frequencies (counts of a letter divided by the total counts of letters in the text). Here, you will use the raw counts. To help you, your instructor filled the fourth row of the matrix corresponding to the first text in French. Fill in the rest. You will include this matrix in your report. "
   ]
  },
  {
   "cell_type": "markdown",
   "metadata": {},
   "source": [
    "$\\mathbf{X} =\n",
    "\\begin{bmatrix}\n",
    " 0& 0& 1& 0&0&0 \\\\\n",
    "1& 0& 0& 0&0& 0\\\\\n",
    "3& 1& 2& 1&0& 0\\\\\n",
    "8& 0& 8& 1&0&0\\\\\n",
    "1& 0& 1& 0&0& 0\\\\\n",
    "4& 1& 6& 1&0& 0\\\\\n",
    "4& 0& 1& 1&0& 0\\\\\n",
    "5& 2& 2& 0&1& 0\\\\\n",
    "2& 0& 2& 1&0& 0\\\\\n",
    "\\end{bmatrix}$\n",
    "; $\\mathbf{y} =\n",
    "\\begin{bmatrix}\n",
    "     \\text{eng} \\\\\n",
    "     \\text{eng}\\\\\n",
    "     \\text{eng}\\\\\n",
    "    \\text{fra}\\\\\n",
    "   \\text{fra}  \\\\\n",
    "     \\text{fra}\\\\\n",
    "    \\text{swe}\\\\\n",
    " \\text{swe}   \\\\\n",
    " \\text{swe}   \n",
    "\\end{bmatrix}$"
   ]
  },
  {
   "cell_type": "markdown",
   "metadata": {},
   "source": [
    "## Programming: Extracting the features"
   ]
  },
  {
   "cell_type": "markdown",
   "metadata": {},
   "source": [
    "Before you start programming, download the Tatoeba dataset."
   ]
  },
  {
   "cell_type": "markdown",
   "metadata": {},
   "source": [
    "### Loading and filtering the dataset"
   ]
  },
  {
   "cell_type": "markdown",
   "metadata": {},
   "source": [
    "Run the code to read the dataset and split it into lines. You may have to change the path"
   ]
  },
  {
   "cell_type": "code",
   "execution_count": 2,
   "metadata": {},
   "outputs": [
    {
     "data": {
      "text/plain": [
       "['1\\tcmn\\t我們試試看！',\n",
       " '2\\tcmn\\t我该去睡觉了。',\n",
       " '3\\tcmn\\t你在干什麼啊？',\n",
       " '4\\tcmn\\t這是什麼啊？',\n",
       " '5\\tcmn\\t今天是６月１８号，也是Muiriel的生日！',\n",
       " '6\\tcmn\\t生日快乐，Muiriel！',\n",
       " '7\\tcmn\\tMuiriel现在20岁了。',\n",
       " '8\\tcmn\\t密码是\"Muiriel\"。',\n",
       " '9\\tcmn\\t我很快就會回來。',\n",
       " '10\\tcmn\\t我不知道。']"
      ]
     },
     "execution_count": 2,
     "metadata": {},
     "output_type": "execute_result"
    }
   ],
   "source": [
    "dataset = open('C:/Users/4stra/Documents/pyton/FDAN20/env/edan20/notebooks/sentences.csv', encoding='utf8').read().strip()\n",
    "dataset = dataset.split('\\n')\n",
    "dataset[:10]"
   ]
  },
  {
   "cell_type": "markdown",
   "metadata": {},
   "source": [
    "Run the code to split the fields and remove possible whitespaces"
   ]
  },
  {
   "cell_type": "code",
   "execution_count": 3,
   "metadata": {},
   "outputs": [
    {
     "data": {
      "text/plain": [
       "[('1', 'cmn', '我們試試看！'), ('2', 'cmn', '我该去睡觉了。'), ('3', 'cmn', '你在干什麼啊？')]"
      ]
     },
     "execution_count": 3,
     "metadata": {},
     "output_type": "execute_result"
    }
   ],
   "source": [
    "dataset = list(map(lambda x: tuple(x.split('\\t')), dataset))\n",
    "dataset = list(map(lambda x: tuple(map(str.strip, x)), dataset))\n",
    "dataset[:3]"
   ]
  },
  {
   "cell_type": "markdown",
   "metadata": {},
   "source": [
    "Write the code to extract the French, English, and Swedish texts. You will call the resulting dataset: `dataset_small`"
   ]
  },
  {
   "cell_type": "code",
   "execution_count": 4,
   "metadata": {},
   "outputs": [],
   "source": [
    "dataset_small=[]\n",
    "for l in dataset:\n",
    "    lanid=l[1].lower()\n",
    "    if lanid=='swe' or lanid=='eng' or lanid=='fra':\n",
    "        dataset_small.append(l)"
   ]
  },
  {
   "cell_type": "code",
   "execution_count": 5,
   "metadata": {},
   "outputs": [
    {
     "data": {
      "text/plain": [
       "[('1115',\n",
       "  'fra',\n",
       "  \"Lorsqu'il a demandé qui avait cassé la fenêtre, tous les garçons ont pris un air innocent.\"),\n",
       " ('1276', 'eng', \"Let's try something.\"),\n",
       " ('1277', 'eng', 'I have to go to sleep.'),\n",
       " ('1279', 'fra', 'Je ne supporte pas ce type.'),\n",
       " ('1280', 'eng', \"Today is June 18th and it is Muiriel's birthday!\")]"
      ]
     },
     "execution_count": 5,
     "metadata": {},
     "output_type": "execute_result"
    }
   ],
   "source": [
    "dataset_small[:5]"
   ]
  },
  {
   "cell_type": "markdown",
   "metadata": {},
   "source": [
    "### Functions to Count Characters Ngrams"
   ]
  },
  {
   "cell_type": "markdown",
   "metadata": {},
   "source": [
    "Write a function `count_chars(string, lc=True)` to count characters (unigrams) of a string. You will set the text in lowercase if `lc` is set to `True`. As in CLD3, you will return the relative frequencies of the unigrams."
   ]
  },
  {
   "cell_type": "code",
   "execution_count": 6,
   "metadata": {},
   "outputs": [],
   "source": [
    "def count_chars(string, lc=True):\n",
    "    if lc==True:\n",
    "        string = string.lower()\n",
    "    l = list(string)\n",
    "    hela = len(l)    \n",
    "    dictt={}\n",
    "    for e in l:\n",
    "        if e in dictt.keys():\n",
    "            dictt[e]+=1/hela\n",
    "        else:\n",
    "            dictt[e]=1/hela\n",
    "    return dictt"
   ]
  },
  {
   "cell_type": "markdown",
   "metadata": {},
   "source": [
    "Write a function `count_bigrams(string, lc=True)` to count the characters bigrams of a string. You will set the text in lowercase if `lc` is set to `True`. As in CLD3, you will return the relative frequencies of the bigrams."
   ]
  },
  {
   "cell_type": "code",
   "execution_count": 7,
   "metadata": {},
   "outputs": [],
   "source": [
    "def count_bigrams(string, lc=True):\n",
    "    lista=[]\n",
    "    if lc==True:\n",
    "        string = string.lower()\n",
    "    #strl=re.findall(r'\\p{L}{2,}',string)    \n",
    "    #for k in strl:\n",
    "    for i in range(len(string)-1):\n",
    "        lista.append(string[i:i+2])    \n",
    "    hela = len(lista)\n",
    "    dictt={}\n",
    "    for e in lista:\n",
    "        if e in dictt.keys():\n",
    "            dictt[e]+=1/hela\n",
    "        else:\n",
    "            dictt[e]=1/hela\n",
    "    \n",
    "    return dictt\n",
    "   "
   ]
  },
  {
   "cell_type": "markdown",
   "metadata": {},
   "source": [
    "Write a function `count_trigrams(string, lc=True)` to count the characters trigrams of a string. You will set the text in lowercase if `lc` is set to `True`. As in CLD3, you will return the relative frequencies of the trigrams."
   ]
  },
  {
   "cell_type": "code",
   "execution_count": 8,
   "metadata": {},
   "outputs": [],
   "source": [
    "def count_trigrams(string, lc=True):\n",
    "    lista=[]\n",
    "    if lc==True:\n",
    "        string = string.lower()\n",
    "    #strl=re.findall(r'\\p{L}{2,}',string)    \n",
    "    #for k in strl:\n",
    "    for i in range(len(string)-2):\n",
    "        lista.append(string[i:i+3])    \n",
    "    hela = len(lista)\n",
    "    \n",
    "    dictt={}\n",
    "    for e in lista:\n",
    "        if e in dictt.keys():\n",
    "            dictt[e]+=1/hela\n",
    "        else:\n",
    "            dictt[e]=1/hela\n",
    "            \n",
    "   # dictt = dict(Counter(lista))\n",
    "    #for d in dictt.keys():\n",
    "        #dictt[d] = dictt[d]/hela\n",
    "    \n",
    "    return dictt\n",
    "   "
   ]
  },
  {
   "cell_type": "code",
   "execution_count": 9,
   "metadata": {},
   "outputs": [
    {
     "data": {
      "text/plain": [
       "{'l': 0.05,\n",
       " 'e': 0.1,\n",
       " 't': 0.15000000000000002,\n",
       " \"'\": 0.05,\n",
       " 's': 0.1,\n",
       " ' ': 0.1,\n",
       " 'r': 0.05,\n",
       " 'y': 0.05,\n",
       " 'o': 0.05,\n",
       " 'm': 0.05,\n",
       " 'h': 0.05,\n",
       " 'i': 0.05,\n",
       " 'n': 0.05,\n",
       " 'g': 0.05,\n",
       " '.': 0.05}"
      ]
     },
     "execution_count": 9,
     "metadata": {},
     "output_type": "execute_result"
    }
   ],
   "source": [
    "count_chars(\"Let's try something.\")"
   ]
  },
  {
   "cell_type": "code",
   "execution_count": 10,
   "metadata": {},
   "outputs": [
    {
     "data": {
      "text/plain": [
       "{'le': 0.05263157894736842,\n",
       " 'et': 0.10526315789473684,\n",
       " \"t'\": 0.05263157894736842,\n",
       " \"'s\": 0.05263157894736842,\n",
       " 's ': 0.05263157894736842,\n",
       " ' t': 0.05263157894736842,\n",
       " 'tr': 0.05263157894736842,\n",
       " 'ry': 0.05263157894736842,\n",
       " 'y ': 0.05263157894736842,\n",
       " ' s': 0.05263157894736842,\n",
       " 'so': 0.05263157894736842,\n",
       " 'om': 0.05263157894736842,\n",
       " 'me': 0.05263157894736842,\n",
       " 'th': 0.05263157894736842,\n",
       " 'hi': 0.05263157894736842,\n",
       " 'in': 0.05263157894736842,\n",
       " 'ng': 0.05263157894736842,\n",
       " 'g.': 0.05263157894736842}"
      ]
     },
     "execution_count": 10,
     "metadata": {},
     "output_type": "execute_result"
    }
   ],
   "source": [
    "count_bigrams(\"Let's try something.\")"
   ]
  },
  {
   "cell_type": "code",
   "execution_count": 11,
   "metadata": {},
   "outputs": [
    {
     "data": {
      "text/plain": [
       "{'let': 0.05555555555555555,\n",
       " \"et'\": 0.05555555555555555,\n",
       " \"t's\": 0.05555555555555555,\n",
       " \"'s \": 0.05555555555555555,\n",
       " 's t': 0.05555555555555555,\n",
       " ' tr': 0.05555555555555555,\n",
       " 'try': 0.05555555555555555,\n",
       " 'ry ': 0.05555555555555555,\n",
       " 'y s': 0.05555555555555555,\n",
       " ' so': 0.05555555555555555,\n",
       " 'som': 0.05555555555555555,\n",
       " 'ome': 0.05555555555555555,\n",
       " 'met': 0.05555555555555555,\n",
       " 'eth': 0.05555555555555555,\n",
       " 'thi': 0.05555555555555555,\n",
       " 'hin': 0.05555555555555555,\n",
       " 'ing': 0.05555555555555555,\n",
       " 'ng.': 0.05555555555555555}"
      ]
     },
     "execution_count": 11,
     "metadata": {},
     "output_type": "execute_result"
    }
   ],
   "source": [
    "count_trigrams(\"Let's try something.\")"
   ]
  },
  {
   "cell_type": "markdown",
   "metadata": {},
   "source": [
    "### Counting the ngrams in the dataset"
   ]
  },
  {
   "cell_type": "markdown",
   "metadata": {},
   "source": [
    "You will now extract the features from each text. For this, add the character, bigram, and trigram relative frequencies to the texts using this format:\n",
    "`(text_id, language_id, text, char_cnt, bigram_cnt, trigram_cnt)`."
   ]
  },
  {
   "cell_type": "markdown",
   "metadata": {},
   "source": [
    "From the datapoint:\n",
    "`('1276', 'eng', \"Let's try something.\")`,\n",
    "you must return:\n",
    "\n",
    "`('1276', 'eng', \"Let's try something.\", \n",
    "  {'l': 0.05, 'e': 0.1, 't': 0.15, \"'\": 0.05, 's': 0.1, ' ': 0.1, 'r': 0.05, 'y': 0.05, 'o': 0.05, 'm': 0.05, 'h': 0.05, 'i': 0.05, 'n': 0.05, 'g': 0.05, '.': 0.05},\n",
    "  {'le': 0.05263157894736842, 'et': 0.10526315789473684, \"t'\": 0.05263157894736842, \"'s\": 0.05263157894736842, 's ': 0.05263157894736842, ' t': 0.05263157894736842, 'tr': 0.05263157894736842, 'ry': 0.05263157894736842, 'y ': 0.05263157894736842, ' s': 0.05263157894736842, 'so': 0.05263157894736842, 'om': 0.05263157894736842, 'me': 0.05263157894736842, 'th': 0.05263157894736842, 'hi': 0.05263157894736842, 'in': 0.05263157894736842, 'ng': 0.05263157894736842, 'g.': 0.05263157894736842},\n",
    "  {'let': 0.05555555555555555, \"et'\": 0.05555555555555555, \"t's\": 0.05555555555555555, \"'s \": 0.05555555555555555, 's t': 0.05555555555555555, ' tr': 0.05555555555555555, 'try': 0.05555555555555555, 'ry ': 0.05555555555555555, 'y s': 0.05555555555555555, ' so': 0.05555555555555555, 'som': 0.05555555555555555, 'ome': 0.05555555555555555, 'met': 0.05555555555555555, 'eth': 0.05555555555555555, 'thi': 0.05555555555555555, 'hin': 0.05555555555555555, 'ing': 0.05555555555555555, 'ng.': 0.05555555555555555})`"
   ]
  },
  {
   "cell_type": "markdown",
   "metadata": {},
   "source": [
    "You will store the extracted features in a list that you will call `dataset_small_feat`"
   ]
  },
  {
   "cell_type": "markdown",
   "metadata": {},
   "source": [
    "We only compute the unigrams and bigrams as most students have slow machines"
   ]
  },
  {
   "cell_type": "code",
   "execution_count": 12,
   "metadata": {},
   "outputs": [],
   "source": [
    "dataset_small_feat= []\n",
    "w=round((len(dataset_small)*0.3))  # 50 vi räknar det på 50 procent av datan eftersom datorn klarar  inte av hela.\n",
    "dataset_smaller=dataset_small[:w]\n",
    "\n",
    "for tup in dataset_smaller:\n",
    "    temp_tup=(tup[0],tup[1],tup[2],count_chars(tup[2]),count_bigrams(tup[2]))\n",
    "    dataset_small_feat.append(temp_tup)\n",
    "    \n"
   ]
  },
  {
   "cell_type": "code",
   "execution_count": 51,
   "metadata": {},
   "outputs": [
    {
     "data": {
      "text/plain": [
       "1021668"
      ]
     },
     "execution_count": 51,
     "metadata": {},
     "output_type": "execute_result"
    }
   ],
   "source": []
  },
  {
   "cell_type": "code",
   "execution_count": 13,
   "metadata": {},
   "outputs": [
    {
     "data": {
      "text/plain": [
       "[('1115',\n",
       "  'fra',\n",
       "  \"Lorsqu'il a demandé qui avait cassé la fenêtre, tous les garçons ont pris un air innocent.\",\n",
       "  {'l': 0.044444444444444446,\n",
       "   'o': 0.05555555555555556,\n",
       "   'r': 0.05555555555555556,\n",
       "   's': 0.07777777777777778,\n",
       "   'q': 0.022222222222222223,\n",
       "   'u': 0.044444444444444446,\n",
       "   \"'\": 0.011111111111111112,\n",
       "   'i': 0.06666666666666667,\n",
       "   ' ': 0.16666666666666663,\n",
       "   'a': 0.08888888888888889,\n",
       "   'd': 0.022222222222222223,\n",
       "   'e': 0.05555555555555556,\n",
       "   'm': 0.011111111111111112,\n",
       "   'n': 0.08888888888888889,\n",
       "   'é': 0.022222222222222223,\n",
       "   'v': 0.011111111111111112,\n",
       "   't': 0.05555555555555556,\n",
       "   'c': 0.022222222222222223,\n",
       "   'f': 0.011111111111111112,\n",
       "   'ê': 0.011111111111111112,\n",
       "   ',': 0.011111111111111112,\n",
       "   'g': 0.011111111111111112,\n",
       "   'ç': 0.011111111111111112,\n",
       "   'p': 0.011111111111111112,\n",
       "   '.': 0.011111111111111112},\n",
       "  {'lo': 0.011235955056179775,\n",
       "   'or': 0.011235955056179775,\n",
       "   'rs': 0.011235955056179775,\n",
       "   'sq': 0.011235955056179775,\n",
       "   'qu': 0.02247191011235955,\n",
       "   \"u'\": 0.011235955056179775,\n",
       "   \"'i\": 0.011235955056179775,\n",
       "   'il': 0.011235955056179775,\n",
       "   'l ': 0.011235955056179775,\n",
       "   ' a': 0.033707865168539325,\n",
       "   'a ': 0.02247191011235955,\n",
       "   ' d': 0.011235955056179775,\n",
       "   'de': 0.011235955056179775,\n",
       "   'em': 0.011235955056179775,\n",
       "   'ma': 0.011235955056179775,\n",
       "   'an': 0.011235955056179775,\n",
       "   'nd': 0.011235955056179775,\n",
       "   'dé': 0.011235955056179775,\n",
       "   'é ': 0.02247191011235955,\n",
       "   ' q': 0.011235955056179775,\n",
       "   'ui': 0.011235955056179775,\n",
       "   'i ': 0.011235955056179775,\n",
       "   'av': 0.011235955056179775,\n",
       "   'va': 0.011235955056179775,\n",
       "   'ai': 0.02247191011235955,\n",
       "   'it': 0.011235955056179775,\n",
       "   't ': 0.02247191011235955,\n",
       "   ' c': 0.011235955056179775,\n",
       "   'ca': 0.011235955056179775,\n",
       "   'as': 0.011235955056179775,\n",
       "   'ss': 0.011235955056179775,\n",
       "   'sé': 0.011235955056179775,\n",
       "   ' l': 0.02247191011235955,\n",
       "   'la': 0.011235955056179775,\n",
       "   ' f': 0.011235955056179775,\n",
       "   'fe': 0.011235955056179775,\n",
       "   'en': 0.02247191011235955,\n",
       "   'nê': 0.011235955056179775,\n",
       "   'êt': 0.011235955056179775,\n",
       "   'tr': 0.011235955056179775,\n",
       "   're': 0.011235955056179775,\n",
       "   'e,': 0.011235955056179775,\n",
       "   ', ': 0.011235955056179775,\n",
       "   ' t': 0.011235955056179775,\n",
       "   'to': 0.011235955056179775,\n",
       "   'ou': 0.011235955056179775,\n",
       "   'us': 0.011235955056179775,\n",
       "   's ': 0.0449438202247191,\n",
       "   'le': 0.011235955056179775,\n",
       "   'es': 0.011235955056179775,\n",
       "   ' g': 0.011235955056179775,\n",
       "   'ga': 0.011235955056179775,\n",
       "   'ar': 0.011235955056179775,\n",
       "   'rç': 0.011235955056179775,\n",
       "   'ço': 0.011235955056179775,\n",
       "   'on': 0.02247191011235955,\n",
       "   'ns': 0.011235955056179775,\n",
       "   ' o': 0.011235955056179775,\n",
       "   'nt': 0.02247191011235955,\n",
       "   ' p': 0.011235955056179775,\n",
       "   'pr': 0.011235955056179775,\n",
       "   'ri': 0.011235955056179775,\n",
       "   'is': 0.011235955056179775,\n",
       "   ' u': 0.011235955056179775,\n",
       "   'un': 0.011235955056179775,\n",
       "   'n ': 0.011235955056179775,\n",
       "   'ir': 0.011235955056179775,\n",
       "   'r ': 0.011235955056179775,\n",
       "   ' i': 0.011235955056179775,\n",
       "   'in': 0.011235955056179775,\n",
       "   'nn': 0.011235955056179775,\n",
       "   'no': 0.011235955056179775,\n",
       "   'oc': 0.011235955056179775,\n",
       "   'ce': 0.011235955056179775,\n",
       "   't.': 0.011235955056179775}),\n",
       " ('1276',\n",
       "  'eng',\n",
       "  \"Let's try something.\",\n",
       "  {'l': 0.05,\n",
       "   'e': 0.1,\n",
       "   't': 0.15000000000000002,\n",
       "   \"'\": 0.05,\n",
       "   's': 0.1,\n",
       "   ' ': 0.1,\n",
       "   'r': 0.05,\n",
       "   'y': 0.05,\n",
       "   'o': 0.05,\n",
       "   'm': 0.05,\n",
       "   'h': 0.05,\n",
       "   'i': 0.05,\n",
       "   'n': 0.05,\n",
       "   'g': 0.05,\n",
       "   '.': 0.05},\n",
       "  {'le': 0.05263157894736842,\n",
       "   'et': 0.10526315789473684,\n",
       "   \"t'\": 0.05263157894736842,\n",
       "   \"'s\": 0.05263157894736842,\n",
       "   's ': 0.05263157894736842,\n",
       "   ' t': 0.05263157894736842,\n",
       "   'tr': 0.05263157894736842,\n",
       "   'ry': 0.05263157894736842,\n",
       "   'y ': 0.05263157894736842,\n",
       "   ' s': 0.05263157894736842,\n",
       "   'so': 0.05263157894736842,\n",
       "   'om': 0.05263157894736842,\n",
       "   'me': 0.05263157894736842,\n",
       "   'th': 0.05263157894736842,\n",
       "   'hi': 0.05263157894736842,\n",
       "   'in': 0.05263157894736842,\n",
       "   'ng': 0.05263157894736842,\n",
       "   'g.': 0.05263157894736842}),\n",
       " ('1277',\n",
       "  'eng',\n",
       "  'I have to go to sleep.',\n",
       "  {'i': 0.045454545454545456,\n",
       "   ' ': 0.2272727272727273,\n",
       "   'h': 0.045454545454545456,\n",
       "   'a': 0.045454545454545456,\n",
       "   'v': 0.045454545454545456,\n",
       "   'e': 0.13636363636363635,\n",
       "   't': 0.09090909090909091,\n",
       "   'o': 0.13636363636363635,\n",
       "   'g': 0.045454545454545456,\n",
       "   's': 0.045454545454545456,\n",
       "   'l': 0.045454545454545456,\n",
       "   'p': 0.045454545454545456,\n",
       "   '.': 0.045454545454545456},\n",
       "  {'i ': 0.047619047619047616,\n",
       "   ' h': 0.047619047619047616,\n",
       "   'ha': 0.047619047619047616,\n",
       "   'av': 0.047619047619047616,\n",
       "   've': 0.047619047619047616,\n",
       "   'e ': 0.047619047619047616,\n",
       "   ' t': 0.09523809523809523,\n",
       "   'to': 0.09523809523809523,\n",
       "   'o ': 0.14285714285714285,\n",
       "   ' g': 0.047619047619047616,\n",
       "   'go': 0.047619047619047616,\n",
       "   ' s': 0.047619047619047616,\n",
       "   'sl': 0.047619047619047616,\n",
       "   'le': 0.047619047619047616,\n",
       "   'ee': 0.047619047619047616,\n",
       "   'ep': 0.047619047619047616,\n",
       "   'p.': 0.047619047619047616}),\n",
       " ('1279',\n",
       "  'fra',\n",
       "  'Je ne supporte pas ce type.',\n",
       "  {'j': 0.037037037037037035,\n",
       "   'e': 0.18518518518518517,\n",
       "   ' ': 0.18518518518518517,\n",
       "   'n': 0.037037037037037035,\n",
       "   's': 0.07407407407407407,\n",
       "   'u': 0.037037037037037035,\n",
       "   'p': 0.14814814814814814,\n",
       "   'o': 0.037037037037037035,\n",
       "   'r': 0.037037037037037035,\n",
       "   't': 0.07407407407407407,\n",
       "   'a': 0.037037037037037035,\n",
       "   'c': 0.037037037037037035,\n",
       "   'y': 0.037037037037037035,\n",
       "   '.': 0.037037037037037035},\n",
       "  {'je': 0.038461538461538464,\n",
       "   'e ': 0.15384615384615385,\n",
       "   ' n': 0.038461538461538464,\n",
       "   'ne': 0.038461538461538464,\n",
       "   ' s': 0.038461538461538464,\n",
       "   'su': 0.038461538461538464,\n",
       "   'up': 0.038461538461538464,\n",
       "   'pp': 0.038461538461538464,\n",
       "   'po': 0.038461538461538464,\n",
       "   'or': 0.038461538461538464,\n",
       "   'rt': 0.038461538461538464,\n",
       "   'te': 0.038461538461538464,\n",
       "   ' p': 0.038461538461538464,\n",
       "   'pa': 0.038461538461538464,\n",
       "   'as': 0.038461538461538464,\n",
       "   's ': 0.038461538461538464,\n",
       "   ' c': 0.038461538461538464,\n",
       "   'ce': 0.038461538461538464,\n",
       "   ' t': 0.038461538461538464,\n",
       "   'ty': 0.038461538461538464,\n",
       "   'yp': 0.038461538461538464,\n",
       "   'pe': 0.038461538461538464,\n",
       "   'e.': 0.038461538461538464}),\n",
       " ('1280',\n",
       "  'eng',\n",
       "  \"Today is June 18th and it is Muiriel's birthday!\",\n",
       "  {'t': 0.08333333333333333,\n",
       "   'o': 0.020833333333333332,\n",
       "   'd': 0.0625,\n",
       "   'a': 0.0625,\n",
       "   'y': 0.041666666666666664,\n",
       "   ' ': 0.16666666666666666,\n",
       "   'i': 0.12499999999999999,\n",
       "   's': 0.0625,\n",
       "   'j': 0.020833333333333332,\n",
       "   'u': 0.041666666666666664,\n",
       "   'n': 0.041666666666666664,\n",
       "   'e': 0.041666666666666664,\n",
       "   '1': 0.020833333333333332,\n",
       "   '8': 0.020833333333333332,\n",
       "   'h': 0.041666666666666664,\n",
       "   'm': 0.020833333333333332,\n",
       "   'r': 0.041666666666666664,\n",
       "   'l': 0.020833333333333332,\n",
       "   \"'\": 0.020833333333333332,\n",
       "   'b': 0.020833333333333332,\n",
       "   '!': 0.020833333333333332},\n",
       "  {'to': 0.02127659574468085,\n",
       "   'od': 0.02127659574468085,\n",
       "   'da': 0.0425531914893617,\n",
       "   'ay': 0.0425531914893617,\n",
       "   'y ': 0.02127659574468085,\n",
       "   ' i': 0.06382978723404255,\n",
       "   'is': 0.0425531914893617,\n",
       "   's ': 0.06382978723404255,\n",
       "   ' j': 0.02127659574468085,\n",
       "   'ju': 0.02127659574468085,\n",
       "   'un': 0.02127659574468085,\n",
       "   'ne': 0.02127659574468085,\n",
       "   'e ': 0.02127659574468085,\n",
       "   ' 1': 0.02127659574468085,\n",
       "   '18': 0.02127659574468085,\n",
       "   '8t': 0.02127659574468085,\n",
       "   'th': 0.0425531914893617,\n",
       "   'h ': 0.02127659574468085,\n",
       "   ' a': 0.02127659574468085,\n",
       "   'an': 0.02127659574468085,\n",
       "   'nd': 0.02127659574468085,\n",
       "   'd ': 0.02127659574468085,\n",
       "   'it': 0.02127659574468085,\n",
       "   't ': 0.02127659574468085,\n",
       "   ' m': 0.02127659574468085,\n",
       "   'mu': 0.02127659574468085,\n",
       "   'ui': 0.02127659574468085,\n",
       "   'ir': 0.0425531914893617,\n",
       "   'ri': 0.02127659574468085,\n",
       "   'ie': 0.02127659574468085,\n",
       "   'el': 0.02127659574468085,\n",
       "   \"l'\": 0.02127659574468085,\n",
       "   \"'s\": 0.02127659574468085,\n",
       "   ' b': 0.02127659574468085,\n",
       "   'bi': 0.02127659574468085,\n",
       "   'rt': 0.02127659574468085,\n",
       "   'hd': 0.02127659574468085,\n",
       "   'y!': 0.02127659574468085})]"
      ]
     },
     "execution_count": 13,
     "metadata": {},
     "output_type": "execute_result"
    }
   ],
   "source": [
    "dataset_small_feat[:5]"
   ]
  },
  {
   "cell_type": "markdown",
   "metadata": {},
   "source": [
    "The unigram frequencies"
   ]
  },
  {
   "cell_type": "code",
   "execution_count": 14,
   "metadata": {},
   "outputs": [
    {
     "data": {
      "text/plain": [
       "dict_items([('l', 0.044444444444444446), ('o', 0.05555555555555556), ('r', 0.05555555555555556), ('s', 0.07777777777777778), ('q', 0.022222222222222223), ('u', 0.044444444444444446), (\"'\", 0.011111111111111112), ('i', 0.06666666666666667), (' ', 0.16666666666666663), ('a', 0.08888888888888889), ('d', 0.022222222222222223), ('e', 0.05555555555555556), ('m', 0.011111111111111112), ('n', 0.08888888888888889), ('é', 0.022222222222222223), ('v', 0.011111111111111112), ('t', 0.05555555555555556), ('c', 0.022222222222222223), ('f', 0.011111111111111112), ('ê', 0.011111111111111112), (',', 0.011111111111111112), ('g', 0.011111111111111112), ('ç', 0.011111111111111112), ('p', 0.011111111111111112), ('.', 0.011111111111111112)])"
      ]
     },
     "execution_count": 14,
     "metadata": {},
     "output_type": "execute_result"
    }
   ],
   "source": [
    "dataset_small_feat[0][3].items()"
   ]
  },
  {
   "cell_type": "markdown",
   "metadata": {},
   "source": [
    "The bigram frequencies"
   ]
  },
  {
   "cell_type": "code",
   "execution_count": 15,
   "metadata": {},
   "outputs": [
    {
     "data": {
      "text/plain": [
       "dict_items([('lo', 0.011235955056179775), ('or', 0.011235955056179775), ('rs', 0.011235955056179775), ('sq', 0.011235955056179775), ('qu', 0.02247191011235955), (\"u'\", 0.011235955056179775), (\"'i\", 0.011235955056179775), ('il', 0.011235955056179775), ('l ', 0.011235955056179775), (' a', 0.033707865168539325), ('a ', 0.02247191011235955), (' d', 0.011235955056179775), ('de', 0.011235955056179775), ('em', 0.011235955056179775), ('ma', 0.011235955056179775), ('an', 0.011235955056179775), ('nd', 0.011235955056179775), ('dé', 0.011235955056179775), ('é ', 0.02247191011235955), (' q', 0.011235955056179775), ('ui', 0.011235955056179775), ('i ', 0.011235955056179775), ('av', 0.011235955056179775), ('va', 0.011235955056179775), ('ai', 0.02247191011235955), ('it', 0.011235955056179775), ('t ', 0.02247191011235955), (' c', 0.011235955056179775), ('ca', 0.011235955056179775), ('as', 0.011235955056179775), ('ss', 0.011235955056179775), ('sé', 0.011235955056179775), (' l', 0.02247191011235955), ('la', 0.011235955056179775), (' f', 0.011235955056179775), ('fe', 0.011235955056179775), ('en', 0.02247191011235955), ('nê', 0.011235955056179775), ('êt', 0.011235955056179775), ('tr', 0.011235955056179775), ('re', 0.011235955056179775), ('e,', 0.011235955056179775), (', ', 0.011235955056179775), (' t', 0.011235955056179775), ('to', 0.011235955056179775), ('ou', 0.011235955056179775), ('us', 0.011235955056179775), ('s ', 0.0449438202247191), ('le', 0.011235955056179775), ('es', 0.011235955056179775), (' g', 0.011235955056179775), ('ga', 0.011235955056179775), ('ar', 0.011235955056179775), ('rç', 0.011235955056179775), ('ço', 0.011235955056179775), ('on', 0.02247191011235955), ('ns', 0.011235955056179775), (' o', 0.011235955056179775), ('nt', 0.02247191011235955), (' p', 0.011235955056179775), ('pr', 0.011235955056179775), ('ri', 0.011235955056179775), ('is', 0.011235955056179775), (' u', 0.011235955056179775), ('un', 0.011235955056179775), ('n ', 0.011235955056179775), ('ir', 0.011235955056179775), ('r ', 0.011235955056179775), (' i', 0.011235955056179775), ('in', 0.011235955056179775), ('nn', 0.011235955056179775), ('no', 0.011235955056179775), ('oc', 0.011235955056179775), ('ce', 0.011235955056179775), ('t.', 0.011235955056179775)])"
      ]
     },
     "execution_count": 15,
     "metadata": {},
     "output_type": "execute_result"
    }
   ],
   "source": [
    "dataset_small_feat[0][4].items()"
   ]
  },
  {
   "cell_type": "markdown",
   "metadata": {},
   "source": [
    "## Programming: Building $\\mathbf{X}$"
   ]
  },
  {
   "cell_type": "markdown",
   "metadata": {},
   "source": [
    "You will now build the $\\mathbf{X}$ matrix. In this assignment, you will only consider unigrams to speed up the training step. This means that you will set aside the character bigrams and trigrams."
   ]
  },
  {
   "cell_type": "markdown",
   "metadata": {},
   "source": [
    "When you are done with the lab requirements, feel free to improve the program and include bigrams and trigrams. To add bigrams, a possible method is to add the bigram dictionary to the unigram one using update and then to extract the resulting dictionary. You can easily extend this to trigrams. Feel free to use another method if you want."
   ]
  },
  {
   "cell_type": "code",
   "execution_count": 16,
   "metadata": {},
   "outputs": [],
   "source": [
    "INCLUDE_BIGRAMS = False\n",
    "if INCLUDE_BIGRAMS:\n",
    "    for i in range(len(dataset_small_feat)):\n",
    "        dataset_small_feat[i][3].update(dataset_small_feat[i][4])"
   ]
  },
  {
   "cell_type": "markdown",
   "metadata": {},
   "source": [
    "### Vectorizing the features"
   ]
  },
  {
   "cell_type": "markdown",
   "metadata": {},
   "source": [
    "The CLD3 architecture uses embeddings. In this lab, we will simplify it and we will use a feature vector instead consisting of the character frequencies. For example, you will represent the text:\n",
    "\n",
    "`\"Let's try something.\"`\n",
    "\n",
    "with:\n",
    "\n",
    "`{'l': 0.05, 'e': 0.1, 't': 0.15, \"'\": 0.05, 's': 0.1, ' ': 0.1, \n",
    " 'r': 0.05, 'y': 0.05, 'o': 0.05, 'm': 0.05, 'h': 0.05, 'i': 0.05, \n",
    " 'n': 0.05, 'g': 0.05, '.': 0.05}`\n",
    "\n",
    "To create the $\\mathbf{X}$ matrix, we need to transform the dictionaries of `dataset_small` into numerical vectors. The `DictVectorizer` class from the scikit-learn library, see here [https://scikit-learn.org/stable/modules/generated/sklearn.feature_extraction.DictVectorizer.html], has two methods, `fit()` and `transform()`, and a combination of both `fit_transform()` to convert dictionaries into such vectors."
   ]
  },
  {
   "cell_type": "markdown",
   "metadata": {},
   "source": [
    "You will now write the code to:\n",
    "\n",
    "1. Extract the character frequency dictionaries from `dataset_small` corresponding to its 3rd index and set them in a list;\n",
    "2. Convert the list of dictionaries into an $\\mathbf{X}$ matrix using `DictVectorizer`."
   ]
  },
  {
   "cell_type": "markdown",
   "metadata": {},
   "source": [
    "#### Extracting the character frequencies"
   ]
  },
  {
   "cell_type": "markdown",
   "metadata": {},
   "source": [
    "Produce a new list of datapoints with the unigrams only. Each item in this list will be a dictionary. You will call it `X_cat`"
   ]
  },
  {
   "cell_type": "code",
   "execution_count": 17,
   "metadata": {},
   "outputs": [],
   "source": [
    "X_cat=[]\n",
    "for b in dataset_small_feat:\n",
    "    X_cat.append(b[3])"
   ]
  },
  {
   "cell_type": "code",
   "execution_count": 46,
   "metadata": {},
   "outputs": [
    {
     "data": {
      "text/plain": [
       "[{'l': 0.044444444444444446,\n",
       "  'o': 0.05555555555555556,\n",
       "  'r': 0.05555555555555556,\n",
       "  's': 0.07777777777777778,\n",
       "  'q': 0.022222222222222223,\n",
       "  'u': 0.044444444444444446,\n",
       "  \"'\": 0.011111111111111112,\n",
       "  'i': 0.06666666666666667,\n",
       "  ' ': 0.16666666666666663,\n",
       "  'a': 0.08888888888888889,\n",
       "  'd': 0.022222222222222223,\n",
       "  'e': 0.05555555555555556,\n",
       "  'm': 0.011111111111111112,\n",
       "  'n': 0.08888888888888889,\n",
       "  'é': 0.022222222222222223,\n",
       "  'v': 0.011111111111111112,\n",
       "  't': 0.05555555555555556,\n",
       "  'c': 0.022222222222222223,\n",
       "  'f': 0.011111111111111112,\n",
       "  'ê': 0.011111111111111112,\n",
       "  ',': 0.011111111111111112,\n",
       "  'g': 0.011111111111111112,\n",
       "  'ç': 0.011111111111111112,\n",
       "  'p': 0.011111111111111112,\n",
       "  '.': 0.011111111111111112},\n",
       " {'l': 0.05,\n",
       "  'e': 0.1,\n",
       "  't': 0.15000000000000002,\n",
       "  \"'\": 0.05,\n",
       "  's': 0.1,\n",
       "  ' ': 0.1,\n",
       "  'r': 0.05,\n",
       "  'y': 0.05,\n",
       "  'o': 0.05,\n",
       "  'm': 0.05,\n",
       "  'h': 0.05,\n",
       "  'i': 0.05,\n",
       "  'n': 0.05,\n",
       "  'g': 0.05,\n",
       "  '.': 0.05}]"
      ]
     },
     "execution_count": 46,
     "metadata": {},
     "output_type": "execute_result"
    }
   ],
   "source": [
    "X_cat[:2]"
   ]
  },
  {
   "cell_type": "markdown",
   "metadata": {},
   "source": [
    "#### Vectorize `X_cat`"
   ]
  },
  {
   "cell_type": "markdown",
   "metadata": {},
   "source": [
    "Convert you `X_cat` matrix into a numerical representation using `DictVectorizer`: https://scikit-learn.org/stable/modules/generated/sklearn.feature_extraction.DictVectorizer.html"
   ]
  },
  {
   "cell_type": "code",
   "execution_count": 60,
   "metadata": {},
   "outputs": [],
   "source": [
    "v = DictVectorizer(sparse=False)\n",
    "X = v.fit_transform(X_cat)"
   ]
  },
  {
   "cell_type": "markdown",
   "metadata": {},
   "source": [
    "## Programming: Building $\\mathbf{y}$"
   ]
  },
  {
   "cell_type": "markdown",
   "metadata": {},
   "source": [
    "You will now convert the list of language symbols into a $\\mathbf{y}$ vector"
   ]
  },
  {
   "cell_type": "markdown",
   "metadata": {},
   "source": [
    "Extract the language symbols from `dataset_small_feat` and call the resulting list `y_cat`"
   ]
  },
  {
   "cell_type": "code",
   "execution_count": 61,
   "metadata": {},
   "outputs": [],
   "source": [
    "y_cat=[]\n",
    "for b in dataset_small_feat:\n",
    "    y_cat.append(b[1])"
   ]
  },
  {
   "cell_type": "code",
   "execution_count": 62,
   "metadata": {},
   "outputs": [
    {
     "data": {
      "text/plain": [
       "['fra', 'eng', 'eng', 'fra', 'eng']"
      ]
     },
     "execution_count": 62,
     "metadata": {},
     "output_type": "execute_result"
    }
   ],
   "source": [
    "y_cat[:5]"
   ]
  },
  {
   "cell_type": "markdown",
   "metadata": {},
   "source": [
    "Extract the set of language symbols and build two indices mapping the symbols to integers and the integers to symbols. Both indices will be dictionaries that you will call: `lang2inx`and `inx2lang`. Such a conversion is not necessary with sklearn. We do it because many other many machine-learning toolkits (keras or pytorch) require a numerical $\\mathbf{y}$ vector and to learn how to carry out this conversion."
   ]
  },
  {
   "cell_type": "code",
   "execution_count": 63,
   "metadata": {},
   "outputs": [],
   "source": [
    "y_symbols = sorted(set(y_cat))\n",
    "inx2lang = dict(enumerate(y_symbols))\n",
    "lang2inx = {v: k for k, v in inx2lang.items()}\n",
    "\n",
    " "
   ]
  },
  {
   "cell_type": "code",
   "execution_count": 64,
   "metadata": {},
   "outputs": [
    {
     "data": {
      "text/plain": [
       "{0: 'eng', 1: 'fra', 2: 'swe'}"
      ]
     },
     "execution_count": 64,
     "metadata": {},
     "output_type": "execute_result"
    }
   ],
   "source": [
    "inx2lang"
   ]
  },
  {
   "cell_type": "code",
   "execution_count": 65,
   "metadata": {},
   "outputs": [
    {
     "data": {
      "text/plain": [
       "{'eng': 0, 'fra': 1, 'swe': 2}"
      ]
     },
     "execution_count": 65,
     "metadata": {},
     "output_type": "execute_result"
    }
   ],
   "source": [
    "lang2inx"
   ]
  },
  {
   "cell_type": "markdown",
   "metadata": {},
   "source": [
    "Convert your `y_cat` vector into a numerical vector. Call this vector `y`."
   ]
  },
  {
   "cell_type": "code",
   "execution_count": 66,
   "metadata": {},
   "outputs": [],
   "source": [
    "y=[]\n",
    "for b in y_cat:\n",
    "    y.append(lang2inx[b])"
   ]
  },
  {
   "cell_type": "code",
   "execution_count": 67,
   "metadata": {},
   "outputs": [
    {
     "data": {
      "text/plain": [
       "[1, 0, 0, 1, 0]"
      ]
     },
     "execution_count": 67,
     "metadata": {},
     "output_type": "execute_result"
    }
   ],
   "source": [
    "y[:5]"
   ]
  },
  {
   "cell_type": "markdown",
   "metadata": {},
   "source": [
    "## Programming: Building the Model"
   ]
  },
  {
   "cell_type": "markdown",
   "metadata": {},
   "source": [
    "Create a neural network using sklearn with a hidden layer of 50 nodes and a relu activation layer: https://scikit-learn.org/stable/modules/neural_networks_supervised.html. Set the maximal number of iterations to 5, in the beginning, and verbose to True. Use the default values for the rest. You will call your classifier `clf`"
   ]
  },
  {
   "cell_type": "code",
   "execution_count": 68,
   "metadata": {},
   "outputs": [],
   "source": [
    "clf = MLPClassifier( hidden_layer_sizes=(50,), max_iter=5, verbose=True)\n"
   ]
  },
  {
   "cell_type": "code",
   "execution_count": 69,
   "metadata": {},
   "outputs": [
    {
     "data": {
      "text/plain": [
       "MLPClassifier(hidden_layer_sizes=(50,), max_iter=5, verbose=True)"
      ]
     },
     "execution_count": 69,
     "metadata": {},
     "output_type": "execute_result"
    }
   ],
   "source": [
    "clf"
   ]
  },
  {
   "cell_type": "markdown",
   "metadata": {},
   "source": [
    "### Training and Validation Sets"
   ]
  },
  {
   "cell_type": "markdown",
   "metadata": {},
   "source": [
    "You will now split the dataset into a training and validation sets"
   ]
  },
  {
   "cell_type": "markdown",
   "metadata": {},
   "source": [
    "#### We shuffle the indices"
   ]
  },
  {
   "cell_type": "code",
   "execution_count": 70,
   "metadata": {},
   "outputs": [
    {
     "name": "stdout",
     "output_type": "stream",
     "text": [
      "[40341, 497949, 546319, 142339, 575691, 181044, 316310, 78124, 165774, 576258]\n"
     ]
    }
   ],
   "source": [
    "indices = list(range(X.shape[0]))\n",
    "np.random.shuffle(indices)\n",
    "print(indices[:10])\n",
    "X = X[indices, :]\n",
    "y = np.array(y)[indices]"
   ]
  },
  {
   "cell_type": "markdown",
   "metadata": {},
   "source": [
    "#### We split the dataset"
   ]
  },
  {
   "cell_type": "code",
   "execution_count": 71,
   "metadata": {},
   "outputs": [],
   "source": [
    "training_examples = int(X.shape[0] * 0.8)\n",
    "\n",
    "X_train = X[:training_examples, :]\n",
    "y_train = y[:training_examples]\n",
    "\n",
    "X_val = X[training_examples:, :]\n",
    "y_val = y[training_examples:]"
   ]
  },
  {
   "cell_type": "markdown",
   "metadata": {
    "tags": []
   },
   "source": [
    "### Fitting the model"
   ]
  },
  {
   "cell_type": "markdown",
   "metadata": {},
   "source": [
    "Fit the model on the training set"
   ]
  },
  {
   "cell_type": "code",
   "execution_count": 72,
   "metadata": {},
   "outputs": [
    {
     "name": "stdout",
     "output_type": "stream",
     "text": [
      "Iteration 1, loss = 0.25846978\n",
      "Iteration 2, loss = 0.09454633\n",
      "Iteration 3, loss = 0.08579578\n",
      "Iteration 4, loss = 0.08289923\n",
      "Iteration 5, loss = 0.08083415\n"
     ]
    },
    {
     "name": "stderr",
     "output_type": "stream",
     "text": [
      "C:\\Users\\4stra\\anaconda3\\lib\\site-packages\\sklearn\\neural_network\\_multilayer_perceptron.py:614: ConvergenceWarning: Stochastic Optimizer: Maximum iterations (5) reached and the optimization hasn't converged yet.\n",
      "  warnings.warn(\n"
     ]
    },
    {
     "data": {
      "text/plain": [
       "MLPClassifier(hidden_layer_sizes=(50,), max_iter=5, verbose=True)"
      ]
     },
     "execution_count": 72,
     "metadata": {},
     "output_type": "execute_result"
    }
   ],
   "source": [
    "clf.fit(X_train,y_train)"
   ]
  },
  {
   "cell_type": "markdown",
   "metadata": {},
   "source": [
    "## Predicting"
   ]
  },
  {
   "cell_type": "markdown",
   "metadata": {},
   "source": [
    "Predict the `X_val` languages. You will call the result `y_val_pred`"
   ]
  },
  {
   "cell_type": "code",
   "execution_count": 73,
   "metadata": {},
   "outputs": [],
   "source": [
    "y_val_pred=clf.predict(X_val)"
   ]
  },
  {
   "cell_type": "code",
   "execution_count": 74,
   "metadata": {},
   "outputs": [
    {
     "name": "stdout",
     "output_type": "stream",
     "text": [
      "[0 1 1 1 0 1 1 0 1 0]\n",
      "[0 1 1 1 0 1 1 1 1 0]\n"
     ]
    }
   ],
   "source": [
    "print(y_val_pred[:10])\n",
    "print(y_val[:10])"
   ]
  },
  {
   "cell_type": "markdown",
   "metadata": {},
   "source": [
    "#### Evaluating"
   ]
  },
  {
   "cell_type": "code",
   "execution_count": 75,
   "metadata": {},
   "outputs": [
    {
     "data": {
      "text/plain": [
       "0.9707424898654986"
      ]
     },
     "execution_count": 75,
     "metadata": {},
     "output_type": "execute_result"
    }
   ],
   "source": [
    "# evaluate the model\n",
    "accuracy_score(y_val, y_val_pred)"
   ]
  },
  {
   "cell_type": "code",
   "execution_count": 76,
   "metadata": {},
   "outputs": [
    {
     "name": "stdout",
     "output_type": "stream",
     "text": [
      "              precision    recall  f1-score   support\n",
      "\n",
      "         eng       0.98      0.98      0.98     76778\n",
      "         fra       0.96      0.96      0.96     43063\n",
      "         swe       0.97      0.89      0.93      2760\n",
      "\n",
      "    accuracy                           0.97    122601\n",
      "   macro avg       0.97      0.94      0.96    122601\n",
      "weighted avg       0.97      0.97      0.97    122601\n",
      "\n",
      "Micro F1: 0.9707424898654986\n",
      "Macro F1 0.9555580580505136\n"
     ]
    }
   ],
   "source": [
    "print(classification_report(y_val, y_val_pred, target_names=y_symbols))\n",
    "print('Micro F1:', f1_score(y_val, y_val_pred, average='micro'))\n",
    "print('Macro F1', f1_score(y_val, y_val_pred, average='macro'))"
   ]
  },
  {
   "cell_type": "markdown",
   "metadata": {},
   "source": [
    "### Confusion Matrix"
   ]
  },
  {
   "cell_type": "code",
   "execution_count": 77,
   "metadata": {},
   "outputs": [
    {
     "data": {
      "text/plain": [
       "array([[75087,  1618,    73],\n",
       "       [ 1584, 41469,    10],\n",
       "       [  271,    31,  2458]], dtype=int64)"
      ]
     },
     "execution_count": 77,
     "metadata": {},
     "output_type": "execute_result"
    }
   ],
   "source": [
    "confusion_matrix(y_val, y_val_pred)"
   ]
  },
  {
   "cell_type": "markdown",
   "metadata": {},
   "source": [
    "Increase the number of iterations to improve the score. You may also change the parameters."
   ]
  },
  {
   "cell_type": "markdown",
   "metadata": {},
   "source": [
    "## Predict the language of a text"
   ]
  },
  {
   "cell_type": "markdown",
   "metadata": {},
   "source": [
    "Now predict the languages of the strings below."
   ]
  },
  {
   "cell_type": "code",
   "execution_count": 78,
   "metadata": {},
   "outputs": [],
   "source": [
    "docs = [\"Salut les gars !\", \"Hejsan grabbar!\", \"Hello guys!\", \"Hejsan tjejer!\"]"
   ]
  },
  {
   "cell_type": "markdown",
   "metadata": {},
   "source": [
    "Create features vectors from this list. Call this matrix `X_test`"
   ]
  },
  {
   "cell_type": "code",
   "execution_count": 79,
   "metadata": {},
   "outputs": [],
   "source": [
    "vekt=[];\n",
    "for d in docs:\n",
    "    dictt=count_chars(d)\n",
    "    vekt.append(dictt)\n",
    "\n",
    "X_test= v.transform(vekt)\n"
   ]
  },
  {
   "cell_type": "code",
   "execution_count": 80,
   "metadata": {},
   "outputs": [
    {
     "data": {
      "text/plain": [
       "array([[0.1875    , 0.0625    , 0.        , 0.        , 0.        ,\n",
       "        0.        , 0.        , 0.        , 0.        , 0.        ,\n",
       "        0.        , 0.        , 0.        , 0.        , 0.        ,\n",
       "        0.        , 0.        , 0.        , 0.        , 0.        ,\n",
       "        0.        , 0.        , 0.        , 0.        , 0.        ,\n",
       "        0.        , 0.        , 0.        , 0.        , 0.        ,\n",
       "        0.        , 0.        , 0.        , 0.        , 0.        ,\n",
       "        0.        , 0.        , 0.125     , 0.        , 0.        ,\n",
       "        0.        , 0.0625    , 0.        , 0.0625    , 0.        ,\n",
       "        0.        , 0.        , 0.        , 0.125     , 0.        ,\n",
       "        0.        , 0.        , 0.        , 0.        , 0.0625    ,\n",
       "        0.1875    , 0.0625    , 0.0625    , 0.        , 0.        ,\n",
       "        0.        , 0.        , 0.        , 0.        , 0.        ,\n",
       "        0.        , 0.        , 0.        , 0.        , 0.        ,\n",
       "        0.        , 0.        , 0.        , 0.        , 0.        ,\n",
       "        0.        , 0.        , 0.        , 0.        , 0.        ,\n",
       "        0.        , 0.        , 0.        , 0.        , 0.        ,\n",
       "        0.        , 0.        , 0.        , 0.        , 0.        ,\n",
       "        0.        , 0.        , 0.        , 0.        , 0.        ,\n",
       "        0.        , 0.        , 0.        , 0.        , 0.        ,\n",
       "        0.        , 0.        , 0.        , 0.        , 0.        ,\n",
       "        0.        , 0.        , 0.        , 0.        , 0.        ,\n",
       "        0.        , 0.        , 0.        , 0.        , 0.        ,\n",
       "        0.        , 0.        , 0.        , 0.        , 0.        ,\n",
       "        0.        , 0.        , 0.        , 0.        , 0.        ,\n",
       "        0.        , 0.        , 0.        , 0.        , 0.        ,\n",
       "        0.        , 0.        , 0.        , 0.        , 0.        ,\n",
       "        0.        , 0.        , 0.        , 0.        , 0.        ,\n",
       "        0.        , 0.        , 0.        , 0.        , 0.        ,\n",
       "        0.        , 0.        , 0.        , 0.        , 0.        ,\n",
       "        0.        , 0.        , 0.        , 0.        , 0.        ,\n",
       "        0.        , 0.        , 0.        , 0.        , 0.        ,\n",
       "        0.        , 0.        , 0.        , 0.        , 0.        ,\n",
       "        0.        , 0.        , 0.        , 0.        , 0.        ,\n",
       "        0.        , 0.        , 0.        , 0.        , 0.        ,\n",
       "        0.        , 0.        , 0.        , 0.        , 0.        ,\n",
       "        0.        , 0.        , 0.        , 0.        , 0.        ,\n",
       "        0.        , 0.        , 0.        , 0.        , 0.        ,\n",
       "        0.        , 0.        , 0.        , 0.        , 0.        ,\n",
       "        0.        , 0.        , 0.        , 0.        , 0.        ,\n",
       "        0.        , 0.        , 0.        , 0.        , 0.        ,\n",
       "        0.        , 0.        , 0.        , 0.        , 0.        ,\n",
       "        0.        , 0.        , 0.        , 0.        , 0.        ,\n",
       "        0.        , 0.        , 0.        , 0.        , 0.        ,\n",
       "        0.        , 0.        , 0.        , 0.        ],\n",
       "       [0.06666667, 0.06666667, 0.        , 0.        , 0.        ,\n",
       "        0.        , 0.        , 0.        , 0.        , 0.        ,\n",
       "        0.        , 0.        , 0.        , 0.        , 0.        ,\n",
       "        0.        , 0.        , 0.        , 0.        , 0.        ,\n",
       "        0.        , 0.        , 0.        , 0.        , 0.        ,\n",
       "        0.        , 0.        , 0.        , 0.        , 0.        ,\n",
       "        0.        , 0.        , 0.        , 0.        , 0.        ,\n",
       "        0.        , 0.        , 0.2       , 0.13333333, 0.        ,\n",
       "        0.        , 0.06666667, 0.        , 0.06666667, 0.06666667,\n",
       "        0.        , 0.06666667, 0.        , 0.        , 0.        ,\n",
       "        0.06666667, 0.        , 0.        , 0.        , 0.13333333,\n",
       "        0.06666667, 0.        , 0.        , 0.        , 0.        ,\n",
       "        0.        , 0.        , 0.        , 0.        , 0.        ,\n",
       "        0.        , 0.        , 0.        , 0.        , 0.        ,\n",
       "        0.        , 0.        , 0.        , 0.        , 0.        ,\n",
       "        0.        , 0.        , 0.        , 0.        , 0.        ,\n",
       "        0.        , 0.        , 0.        , 0.        , 0.        ,\n",
       "        0.        , 0.        , 0.        , 0.        , 0.        ,\n",
       "        0.        , 0.        , 0.        , 0.        , 0.        ,\n",
       "        0.        , 0.        , 0.        , 0.        , 0.        ,\n",
       "        0.        , 0.        , 0.        , 0.        , 0.        ,\n",
       "        0.        , 0.        , 0.        , 0.        , 0.        ,\n",
       "        0.        , 0.        , 0.        , 0.        , 0.        ,\n",
       "        0.        , 0.        , 0.        , 0.        , 0.        ,\n",
       "        0.        , 0.        , 0.        , 0.        , 0.        ,\n",
       "        0.        , 0.        , 0.        , 0.        , 0.        ,\n",
       "        0.        , 0.        , 0.        , 0.        , 0.        ,\n",
       "        0.        , 0.        , 0.        , 0.        , 0.        ,\n",
       "        0.        , 0.        , 0.        , 0.        , 0.        ,\n",
       "        0.        , 0.        , 0.        , 0.        , 0.        ,\n",
       "        0.        , 0.        , 0.        , 0.        , 0.        ,\n",
       "        0.        , 0.        , 0.        , 0.        , 0.        ,\n",
       "        0.        , 0.        , 0.        , 0.        , 0.        ,\n",
       "        0.        , 0.        , 0.        , 0.        , 0.        ,\n",
       "        0.        , 0.        , 0.        , 0.        , 0.        ,\n",
       "        0.        , 0.        , 0.        , 0.        , 0.        ,\n",
       "        0.        , 0.        , 0.        , 0.        , 0.        ,\n",
       "        0.        , 0.        , 0.        , 0.        , 0.        ,\n",
       "        0.        , 0.        , 0.        , 0.        , 0.        ,\n",
       "        0.        , 0.        , 0.        , 0.        , 0.        ,\n",
       "        0.        , 0.        , 0.        , 0.        , 0.        ,\n",
       "        0.        , 0.        , 0.        , 0.        , 0.        ,\n",
       "        0.        , 0.        , 0.        , 0.        , 0.        ,\n",
       "        0.        , 0.        , 0.        , 0.        , 0.        ,\n",
       "        0.        , 0.        , 0.        , 0.        ],\n",
       "       [0.09090909, 0.09090909, 0.        , 0.        , 0.        ,\n",
       "        0.        , 0.        , 0.        , 0.        , 0.        ,\n",
       "        0.        , 0.        , 0.        , 0.        , 0.        ,\n",
       "        0.        , 0.        , 0.        , 0.        , 0.        ,\n",
       "        0.        , 0.        , 0.        , 0.        , 0.        ,\n",
       "        0.        , 0.        , 0.        , 0.        , 0.        ,\n",
       "        0.        , 0.        , 0.        , 0.        , 0.        ,\n",
       "        0.        , 0.        , 0.        , 0.        , 0.        ,\n",
       "        0.        , 0.09090909, 0.        , 0.09090909, 0.09090909,\n",
       "        0.        , 0.        , 0.        , 0.18181818, 0.        ,\n",
       "        0.        , 0.09090909, 0.        , 0.        , 0.        ,\n",
       "        0.09090909, 0.        , 0.09090909, 0.        , 0.        ,\n",
       "        0.        , 0.09090909, 0.        , 0.        , 0.        ,\n",
       "        0.        , 0.        , 0.        , 0.        , 0.        ,\n",
       "        0.        , 0.        , 0.        , 0.        , 0.        ,\n",
       "        0.        , 0.        , 0.        , 0.        , 0.        ,\n",
       "        0.        , 0.        , 0.        , 0.        , 0.        ,\n",
       "        0.        , 0.        , 0.        , 0.        , 0.        ,\n",
       "        0.        , 0.        , 0.        , 0.        , 0.        ,\n",
       "        0.        , 0.        , 0.        , 0.        , 0.        ,\n",
       "        0.        , 0.        , 0.        , 0.        , 0.        ,\n",
       "        0.        , 0.        , 0.        , 0.        , 0.        ,\n",
       "        0.        , 0.        , 0.        , 0.        , 0.        ,\n",
       "        0.        , 0.        , 0.        , 0.        , 0.        ,\n",
       "        0.        , 0.        , 0.        , 0.        , 0.        ,\n",
       "        0.        , 0.        , 0.        , 0.        , 0.        ,\n",
       "        0.        , 0.        , 0.        , 0.        , 0.        ,\n",
       "        0.        , 0.        , 0.        , 0.        , 0.        ,\n",
       "        0.        , 0.        , 0.        , 0.        , 0.        ,\n",
       "        0.        , 0.        , 0.        , 0.        , 0.        ,\n",
       "        0.        , 0.        , 0.        , 0.        , 0.        ,\n",
       "        0.        , 0.        , 0.        , 0.        , 0.        ,\n",
       "        0.        , 0.        , 0.        , 0.        , 0.        ,\n",
       "        0.        , 0.        , 0.        , 0.        , 0.        ,\n",
       "        0.        , 0.        , 0.        , 0.        , 0.        ,\n",
       "        0.        , 0.        , 0.        , 0.        , 0.        ,\n",
       "        0.        , 0.        , 0.        , 0.        , 0.        ,\n",
       "        0.        , 0.        , 0.        , 0.        , 0.        ,\n",
       "        0.        , 0.        , 0.        , 0.        , 0.        ,\n",
       "        0.        , 0.        , 0.        , 0.        , 0.        ,\n",
       "        0.        , 0.        , 0.        , 0.        , 0.        ,\n",
       "        0.        , 0.        , 0.        , 0.        , 0.        ,\n",
       "        0.        , 0.        , 0.        , 0.        , 0.        ,\n",
       "        0.        , 0.        , 0.        , 0.        , 0.        ,\n",
       "        0.        , 0.        , 0.        , 0.        ],\n",
       "       [0.07142857, 0.07142857, 0.        , 0.        , 0.        ,\n",
       "        0.        , 0.        , 0.        , 0.        , 0.        ,\n",
       "        0.        , 0.        , 0.        , 0.        , 0.        ,\n",
       "        0.        , 0.        , 0.        , 0.        , 0.        ,\n",
       "        0.        , 0.        , 0.        , 0.        , 0.        ,\n",
       "        0.        , 0.        , 0.        , 0.        , 0.        ,\n",
       "        0.        , 0.        , 0.        , 0.        , 0.        ,\n",
       "        0.        , 0.        , 0.07142857, 0.        , 0.        ,\n",
       "        0.        , 0.21428571, 0.        , 0.        , 0.07142857,\n",
       "        0.        , 0.21428571, 0.        , 0.        , 0.        ,\n",
       "        0.07142857, 0.        , 0.        , 0.        , 0.07142857,\n",
       "        0.07142857, 0.07142857, 0.        , 0.        , 0.        ,\n",
       "        0.        , 0.        , 0.        , 0.        , 0.        ,\n",
       "        0.        , 0.        , 0.        , 0.        , 0.        ,\n",
       "        0.        , 0.        , 0.        , 0.        , 0.        ,\n",
       "        0.        , 0.        , 0.        , 0.        , 0.        ,\n",
       "        0.        , 0.        , 0.        , 0.        , 0.        ,\n",
       "        0.        , 0.        , 0.        , 0.        , 0.        ,\n",
       "        0.        , 0.        , 0.        , 0.        , 0.        ,\n",
       "        0.        , 0.        , 0.        , 0.        , 0.        ,\n",
       "        0.        , 0.        , 0.        , 0.        , 0.        ,\n",
       "        0.        , 0.        , 0.        , 0.        , 0.        ,\n",
       "        0.        , 0.        , 0.        , 0.        , 0.        ,\n",
       "        0.        , 0.        , 0.        , 0.        , 0.        ,\n",
       "        0.        , 0.        , 0.        , 0.        , 0.        ,\n",
       "        0.        , 0.        , 0.        , 0.        , 0.        ,\n",
       "        0.        , 0.        , 0.        , 0.        , 0.        ,\n",
       "        0.        , 0.        , 0.        , 0.        , 0.        ,\n",
       "        0.        , 0.        , 0.        , 0.        , 0.        ,\n",
       "        0.        , 0.        , 0.        , 0.        , 0.        ,\n",
       "        0.        , 0.        , 0.        , 0.        , 0.        ,\n",
       "        0.        , 0.        , 0.        , 0.        , 0.        ,\n",
       "        0.        , 0.        , 0.        , 0.        , 0.        ,\n",
       "        0.        , 0.        , 0.        , 0.        , 0.        ,\n",
       "        0.        , 0.        , 0.        , 0.        , 0.        ,\n",
       "        0.        , 0.        , 0.        , 0.        , 0.        ,\n",
       "        0.        , 0.        , 0.        , 0.        , 0.        ,\n",
       "        0.        , 0.        , 0.        , 0.        , 0.        ,\n",
       "        0.        , 0.        , 0.        , 0.        , 0.        ,\n",
       "        0.        , 0.        , 0.        , 0.        , 0.        ,\n",
       "        0.        , 0.        , 0.        , 0.        , 0.        ,\n",
       "        0.        , 0.        , 0.        , 0.        , 0.        ,\n",
       "        0.        , 0.        , 0.        , 0.        , 0.        ,\n",
       "        0.        , 0.        , 0.        , 0.        , 0.        ,\n",
       "        0.        , 0.        , 0.        , 0.        ]])"
      ]
     },
     "execution_count": 80,
     "metadata": {},
     "output_type": "execute_result"
    }
   ],
   "source": [
    "X_test"
   ]
  },
  {
   "cell_type": "markdown",
   "metadata": {},
   "source": [
    "And run the prediction that you will store in a variable called `pred_languages`"
   ]
  },
  {
   "cell_type": "code",
   "execution_count": 89,
   "metadata": {},
   "outputs": [],
   "source": [
    "temp=clf.predict(X_test)\n",
    "pred_languages=[]\n",
    "for t in temp:\n",
    "    pred_languages.append(inx2lang[t])\n"
   ]
  },
  {
   "cell_type": "code",
   "execution_count": 90,
   "metadata": {},
   "outputs": [
    {
     "data": {
      "text/plain": [
       "['fra', 'swe', 'eng', 'swe']"
      ]
     },
     "execution_count": 90,
     "metadata": {},
     "output_type": "execute_result"
    }
   ],
   "source": [
    "pred_languages"
   ]
  },
  {
   "cell_type": "markdown",
   "metadata": {},
   "source": [
    "## Submission"
   ]
  },
  {
   "cell_type": "markdown",
   "metadata": {},
   "source": [
    "When you have written all the code and run all the cells, fill in your ID and as well as the name of the notebook."
   ]
  },
  {
   "cell_type": "code",
   "execution_count": 91,
   "metadata": {},
   "outputs": [],
   "source": [
    "STIL_ID = [\"fa0188ni-s\", \"mo0708ho-s\"] # Write your stil ids as a list\n",
    "CURRENT_NOTEBOOK_PATH = os.path.join(os.getcwd(), \n",
    "                                     \"3-language_detector_solution.ipynb\") # Write the name of your notebook"
   ]
  },
  {
   "cell_type": "markdown",
   "metadata": {},
   "source": [
    "The submission code will send your answer. It consists of the predicted languages."
   ]
  },
  {
   "cell_type": "code",
   "execution_count": 92,
   "metadata": {},
   "outputs": [
    {
     "data": {
      "text/plain": [
       "'{\"pred_langs\": [\"fra\", \"swe\", \"eng\", \"swe\"]}'"
      ]
     },
     "execution_count": 92,
     "metadata": {},
     "output_type": "execute_result"
    }
   ],
   "source": [
    "ANSWER = json.dumps({'pred_langs': pred_languages})\n",
    "ANSWER"
   ]
  },
  {
   "cell_type": "markdown",
   "metadata": {},
   "source": [
    "Now the moment of truth:\n",
    "1. Save your notebook and\n",
    "2. Run the cells below"
   ]
  },
  {
   "cell_type": "code",
   "execution_count": 93,
   "metadata": {},
   "outputs": [],
   "source": [
    "SUBMISSION_NOTEBOOK_PATH = CURRENT_NOTEBOOK_PATH + \".submission.bz2\""
   ]
  },
  {
   "cell_type": "code",
   "execution_count": 94,
   "metadata": {},
   "outputs": [],
   "source": [
    "ASSIGNMENT = 3\n",
    "API_KEY = \"f581ba347babfea0b8f2c74a3a6776a7\"\n",
    "\n",
    "# Copy and compress current notebook\n",
    "with bz2.open(SUBMISSION_NOTEBOOK_PATH, mode=\"wb\") as fout:\n",
    "    with open(CURRENT_NOTEBOOK_PATH, \"rb\") as fin:\n",
    "        fout.write(fin.read())"
   ]
  },
  {
   "cell_type": "code",
   "execution_count": 97,
   "metadata": {},
   "outputs": [
    {
     "data": {
      "text/plain": [
       "{'msg': None,\n",
       " 'status': 'correct',\n",
       " 'signature': '511c65e583115d029b5e7360a7c97ec83fed5662d2cd507d9785fee2b72c9601ff7383acabd2b811cfc8794270832f83858da79fbeebd1fdb1ea2964b7ea7c6c',\n",
       " 'submission_id': 'a78668e8-e989-4dc9-8b0e-7cd71dc8674f'}"
      ]
     },
     "execution_count": 97,
     "metadata": {},
     "output_type": "execute_result"
    }
   ],
   "source": [
    "res = requests.post(\"https://vilde.cs.lth.se/edan20checker/submit\", \n",
    "                    files={\"notebook_file\": open(SUBMISSION_NOTEBOOK_PATH, \"rb\")}, \n",
    "                    data={\n",
    "                        \"stil_id\": STIL_ID,\n",
    "                        \"assignment\": ASSIGNMENT,\n",
    "                        \"answer\": ANSWER,\n",
    "                        \"api_key\": API_KEY,\n",
    "                    },\n",
    "               verify=True)\n",
    "\n",
    "# from IPython.display import display, JSON\n",
    "res.json()"
   ]
  },
  {
   "cell_type": "markdown",
   "metadata": {},
   "source": [
    "## Turning in your assignment"
   ]
  },
  {
   "cell_type": "markdown",
   "metadata": {},
   "source": [
    "Now your are done with the program. To complete this assignment, you will:\n",
    "1. Write a short individual report on your program. Do not forget to:\n",
    "   * Summarize CLD3 and outline its architecture\n",
    "   * Identify the features used by CLD3\n",
    "   * Include the feature matrix you computed manually\n",
    "\n",
    "Submit your report as well as your notebook (for archiving purposes) to Canvas: https://canvas.education.lu.se/. To write your report, you can either\n",
    "1. Write directly your text in Canvas, or\n",
    "2. Use Latex and Overleaf (www.overleaf.com). This will probably help you structure your text. You will then upload a PDF file in Canvas.\n",
    "\n",
    "The submission deadline is October 1st, 2021."
   ]
  },
  {
   "cell_type": "markdown",
   "metadata": {},
   "source": [
    "## Postscript from Pierre Nugues"
   ]
  },
  {
   "cell_type": "markdown",
   "metadata": {},
   "source": [
    "I created this assignment from an examination I wrote in 2019 for the course on applied machine learning. I simplified it from the `README.md` on GitHub, https://github.com/google/cld3. I found the C++ code difficult to understand and I reimplemented a Keras/Tensorflow version of it from this `README`. Should you be interested, you can find it here: https://github.com/pnugues/language-detector."
   ]
  },
  {
   "cell_type": "code",
   "execution_count": null,
   "metadata": {},
   "outputs": [],
   "source": []
  }
 ],
 "metadata": {
  "kernelspec": {
   "display_name": "Python 3",
   "language": "python",
   "name": "python3"
  },
  "language_info": {
   "codemirror_mode": {
    "name": "ipython",
    "version": 3
   },
   "file_extension": ".py",
   "mimetype": "text/x-python",
   "name": "python",
   "nbconvert_exporter": "python",
   "pygments_lexer": "ipython3",
   "version": "3.8.8"
  }
 },
 "nbformat": 4,
 "nbformat_minor": 4
}
